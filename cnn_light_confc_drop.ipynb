{
  "cells": [
    {
      "cell_type": "markdown",
      "metadata": {
        "id": "view-in-github",
        "colab_type": "text"
      },
      "source": [
        "<a href=\"https://colab.research.google.com/github/phukumuku/cifar10/blob/test/cnn_light_confc_drop.ipynb\" target=\"_parent\"><img src=\"https://colab.research.google.com/assets/colab-badge.svg\" alt=\"Open In Colab\"/></a>"
      ]
    },
    {
      "cell_type": "code",
      "source": [
        "csvname = input()+'.csv'"
      ],
      "metadata": {
        "id": "v0zWLt1ITzpN",
        "colab": {
          "base_uri": "https://localhost:8080/"
        },
        "outputId": "37c0b17c-dd89-4b82-b512-17b8eebd8e56"
      },
      "execution_count": 41,
      "outputs": [
        {
          "name": "stdout",
          "output_type": "stream",
          "text": [
            "confc_drop\n"
          ]
        }
      ]
    },
    {
      "cell_type": "markdown",
      "metadata": {
        "id": "cvIb75QoCS3l"
      },
      "source": [
        "ツールのインポート"
      ]
    },
    {
      "cell_type": "code",
      "execution_count": 42,
      "metadata": {
        "id": "S5MjgvPRc11g"
      },
      "outputs": [],
      "source": [
        "import torch\n",
        "import torchvision\n",
        "import torchvision.transforms as transforms\n",
        "import torch.nn as nn\n",
        "import torch.nn.functional as F\n",
        "import torch.optim as optim"
      ]
    },
    {
      "cell_type": "markdown",
      "metadata": {
        "id": "11jMqoxuCZau"
      },
      "source": [
        "ツール（pytorch）のバージョンやGPUの設定確認\n",
        "- ランタイム -> ランタイムのタイプを変更 -> T4が選択されていればTrueと表示されるはず"
      ]
    },
    {
      "cell_type": "code",
      "execution_count": 43,
      "metadata": {
        "colab": {
          "base_uri": "https://localhost:8080/"
        },
        "id": "fY_XaooObNRe",
        "outputId": "31996579-76d1-4e19-b0a5-f765249384a7"
      },
      "outputs": [
        {
          "output_type": "stream",
          "name": "stdout",
          "text": [
            "2.3.0+cu121\n",
            "False\n"
          ]
        }
      ],
      "source": [
        "print(torch.__version__)\n",
        "print(torch.cuda.is_available())\n",
        "device = torch.device('cuda:0' if torch.cuda.is_available() else 'cpu')"
      ]
    },
    {
      "cell_type": "markdown",
      "metadata": {
        "id": "yKotwuNNC_N-"
      },
      "source": [
        "データセットのロードと前処理を実施"
      ]
    },
    {
      "cell_type": "code",
      "execution_count": 44,
      "metadata": {
        "colab": {
          "base_uri": "https://localhost:8080/"
        },
        "id": "i1_iK9DbPVWS",
        "outputId": "32318df9-78fd-468e-8069-3e6857b24940"
      },
      "outputs": [
        {
          "output_type": "stream",
          "name": "stdout",
          "text": [
            "Files already downloaded and verified\n",
            "Files already downloaded and verified\n"
          ]
        }
      ],
      "source": [
        "transform = transforms.Compose(\n",
        "    [transforms.ToTensor(), transforms.Normalize((0.5, 0.5, 0.5), (0.5, 0.5, 0.5))]\n",
        ")\n",
        "\n",
        "batch_size = 4\n",
        "\n",
        "trainset = torchvision.datasets.CIFAR10(root='./data', train=True,\n",
        "                                        download=True, transform=transform)\n",
        "trainloader = torch.utils.data.DataLoader(trainset, batch_size=batch_size,\n",
        "                                          shuffle=True, num_workers=2)\n",
        "\n",
        "testset = torchvision.datasets.CIFAR10(root='./data', train=False,\n",
        "                                       download=True, transform=transform)\n",
        "testloader = torch.utils.data.DataLoader(testset, batch_size=batch_size,\n",
        "                                         shuffle=False, num_workers=2)\n",
        "\n",
        "classes = trainset.classes"
      ]
    },
    {
      "cell_type": "markdown",
      "metadata": {
        "id": "G_QjcnV3DDQx"
      },
      "source": [
        "分類用のニューラルネットワークの設定"
      ]
    },
    {
      "cell_type": "code",
      "execution_count": 45,
      "metadata": {
        "id": "ORoICS6OPfCq"
      },
      "outputs": [],
      "source": [
        "class Net(nn.Module):\n",
        "    def __init__(self):\n",
        "        super(Net, self).__init__()\n",
        "        self.conv1 = nn.Conv2d(3, 6, 3, padding=1)  # 畳み込み層1\n",
        "        self.pool = nn.MaxPool2d(2, 2)  # プーリング層\n",
        "        self.conv2 = nn.Conv2d(6, 32, 3, padding=1)  # 畳み込み層2\n",
        "        self.fc1 = nn.Linear(32 * 8 * 8, 64)  # 全結合層1（プーリング後のサイズに合わせる）\n",
        "        self.fc2 = nn.Linear(64, 500)  # 全結合層2\n",
        "        self.fc3 = nn.Linear(500, 10)  # 出力層\n",
        "        self.dropout = nn.Dropout(p=0.5)  # ドロップアウト層\n",
        "\n",
        "    def forward(self, x):\n",
        "        x = self.pool(F.relu(self.conv1(x)))  # 畳み込み -> ReLU -> プーリング\n",
        "        x = self.pool(F.relu(self.conv2(x)))  # 畳み込み -> ReLU -> プーリング\n",
        "        x = torch.flatten(x, 1)  # バッチ次元を除く全ての次元をフラット化\n",
        "        x = self.dropout(F.relu(self.fc1(x))) # 全結合層1 -> ReLU -> ドロップアウト\n",
        "        x = self.dropout(F.relu(self.fc2(x)))  # 全結合層2 -> ReLU -> ドロップアウト\n",
        "        x = self.fc3(x)  # 出力層\n",
        "        return x"
      ]
    },
    {
      "cell_type": "code",
      "execution_count": 46,
      "metadata": {
        "id": "YrXRC55ivk0c"
      },
      "outputs": [],
      "source": [
        "def test(net, testloader):\n",
        "    net.eval()  # モデルを評価モードに切り替える\n",
        "    correct = 0\n",
        "    total = 0\n",
        "    with torch.no_grad():\n",
        "        for data in testloader:\n",
        "            images, labels = data\n",
        "            if torch.cuda.is_available():\n",
        "                images, labels = images.to(device), labels.to(device)\n",
        "            outputs = net(images)\n",
        "            _, predicted = torch.max(outputs.data, 1)\n",
        "            total += labels.size(0)\n",
        "            correct += (predicted == labels).sum().item()\n",
        "\n",
        "    accuracy = 100 * correct / total\n",
        "    print('Accuracy of the network on the 10000 test images: %d %%' % accuracy)\n",
        "    return accuracy"
      ]
    },
    {
      "cell_type": "markdown",
      "metadata": {
        "id": "vP1_7xLkDQZr"
      },
      "source": [
        "分類用ニューラルネットワークのインスタンス化と学習方法の設定"
      ]
    },
    {
      "cell_type": "code",
      "execution_count": 47,
      "metadata": {
        "id": "abzQ0jbTPjer"
      },
      "outputs": [],
      "source": [
        "net = Net()\n",
        "# transfer to gpu\n",
        "if torch.cuda.is_available():\n",
        "  net = net.to(device)\n",
        "criterion = nn.CrossEntropyLoss()\n",
        "optimizer = optim.SGD(net.parameters(), lr=0.001, momentum=0.9)"
      ]
    },
    {
      "cell_type": "markdown",
      "metadata": {
        "id": "Ver73uk_DftR"
      },
      "source": [
        "学習"
      ]
    },
    {
      "cell_type": "code",
      "execution_count": 53,
      "metadata": {
        "colab": {
          "base_uri": "https://localhost:8080/"
        },
        "id": "n-Q0OtogPk1W",
        "outputId": "f269e014-a7f8-4cdb-bce1-5843660d397e"
      },
      "outputs": [
        {
          "output_type": "stream",
          "name": "stdout",
          "text": [
            "[1,  2000] loss: 1.134\n",
            "[1,  4000] loss: 1.163\n",
            "[1,  6000] loss: 1.147\n",
            "[1,  8000] loss: 1.158\n",
            "[1, 10000] loss: 1.136\n",
            "[1, 12000] loss: 1.143\n",
            "Epoch 1\n",
            "Accuracy of the network on the 10000 test images: 62 %\n",
            "[2,  2000] loss: 1.101\n",
            "[2,  4000] loss: 1.121\n",
            "[2,  6000] loss: 1.118\n",
            "[2,  8000] loss: 1.115\n",
            "[2, 10000] loss: 1.118\n",
            "[2, 12000] loss: 1.120\n",
            "Epoch 2\n",
            "Accuracy of the network on the 10000 test images: 61 %\n",
            "[3,  2000] loss: 1.077\n",
            "[3,  4000] loss: 1.059\n",
            "[3,  6000] loss: 1.070\n",
            "[3,  8000] loss: 1.086\n",
            "[3, 10000] loss: 1.102\n",
            "[3, 12000] loss: 1.105\n",
            "Epoch 3\n",
            "Accuracy of the network on the 10000 test images: 60 %\n",
            "[4,  2000] loss: 1.027\n",
            "[4,  4000] loss: 1.055\n",
            "[4,  6000] loss: 1.059\n",
            "[4,  8000] loss: 1.074\n",
            "[4, 10000] loss: 1.066\n",
            "[4, 12000] loss: 1.077\n",
            "Epoch 4\n",
            "Accuracy of the network on the 10000 test images: 64 %\n",
            "[5,  2000] loss: 1.027\n",
            "[5,  4000] loss: 1.038\n",
            "[5,  6000] loss: 1.038\n",
            "[5,  8000] loss: 1.032\n",
            "[5, 10000] loss: 1.056\n",
            "[5, 12000] loss: 1.044\n",
            "Epoch 5\n",
            "Accuracy of the network on the 10000 test images: 63 %\n",
            "[6,  2000] loss: 1.003\n",
            "[6,  4000] loss: 0.987\n",
            "[6,  6000] loss: 1.019\n",
            "[6,  8000] loss: 1.040\n",
            "[6, 10000] loss: 1.027\n",
            "[6, 12000] loss: 1.045\n",
            "Epoch 6\n",
            "Accuracy of the network on the 10000 test images: 62 %\n",
            "[7,  2000] loss: 1.003\n",
            "[7,  4000] loss: 0.999\n",
            "[7,  6000] loss: 1.007\n",
            "[7,  8000] loss: 1.017\n",
            "[7, 10000] loss: 1.025\n",
            "[7, 12000] loss: 1.049\n",
            "Epoch 7\n",
            "Accuracy of the network on the 10000 test images: 63 %\n",
            "[8,  2000] loss: 0.977\n",
            "[8,  4000] loss: 0.978\n",
            "[8,  6000] loss: 1.014\n",
            "[8,  8000] loss: 0.983\n",
            "[8, 10000] loss: 1.009\n",
            "[8, 12000] loss: 1.011\n",
            "Epoch 8\n",
            "Accuracy of the network on the 10000 test images: 64 %\n",
            "[9,  2000] loss: 0.958\n",
            "[9,  4000] loss: 0.991\n",
            "[9,  6000] loss: 0.958\n",
            "[9,  8000] loss: 0.999\n",
            "[9, 10000] loss: 0.991\n",
            "[9, 12000] loss: 0.991\n",
            "Epoch 9\n",
            "Accuracy of the network on the 10000 test images: 63 %\n",
            "[10,  2000] loss: 0.916\n",
            "[10,  4000] loss: 0.947\n",
            "[10,  6000] loss: 0.983\n",
            "[10,  8000] loss: 0.979\n",
            "[10, 10000] loss: 0.971\n",
            "[10, 12000] loss: 1.002\n",
            "Epoch 10\n",
            "Accuracy of the network on the 10000 test images: 63 %\n",
            "Finished Training\n"
          ]
        }
      ],
      "source": [
        "import csv\n",
        "\n",
        "# CSVファイルの準備\n",
        "with open(csvname, 'w', newline='') as csvfile:\n",
        "    fieldnames = ['epoch', 'batch', 'loss', 'accuracy']\n",
        "    writer = csv.DictWriter(csvfile, fieldnames=fieldnames)\n",
        "    writer.writeheader()\n",
        "\n",
        "    for epoch in range(10):  # loop over the dataset multiple times\n",
        "        net.train()  # 訓練モードに切り替える\n",
        "        running_loss = 0.0\n",
        "        for i, data in enumerate(trainloader, 0):\n",
        "            # get the inputs; data is a list of [inputs, labels]\n",
        "            inputs, labels = data\n",
        "            if torch.cuda.is_available():\n",
        "                inputs = inputs.to(device)\n",
        "                labels = labels.to(device)\n",
        "            optimizer.zero_grad()\n",
        "\n",
        "            # forward + backward + optimize\n",
        "            outputs = net(inputs)\n",
        "            loss = criterion(outputs, labels)\n",
        "            loss.backward()\n",
        "            optimizer.step()\n",
        "\n",
        "            # print statistics\n",
        "            running_loss += loss.item()\n",
        "            if i % 2000 == 1999:  # print every 2000 mini-batches\n",
        "                print('[%d, %5d] loss: %.3f' %\n",
        "                      (epoch + 1, i + 1, running_loss / 2000))\n",
        "                writer.writerow({'epoch': epoch + 1, 'batch': i + 1, 'loss': running_loss / 2000, 'accuracy': ''})\n",
        "                running_loss = 0.0\n",
        "\n",
        "        # 各エポックの最後に評価を行う\n",
        "        print(f'Epoch {epoch + 1}')\n",
        "        accuracy = test(net, testloader)\n",
        "\n",
        "        # エポックの結果をCSVに書き込む\n",
        "        writer.writerow({'epoch': epoch + 1, 'batch': '', 'loss': '', 'accuracy': accuracy})\n",
        "\n",
        "print('Finished Training')"
      ]
    },
    {
      "cell_type": "code",
      "execution_count": 49,
      "metadata": {
        "colab": {
          "base_uri": "https://localhost:8080/"
        },
        "id": "DWmqtenINKVI",
        "outputId": "6c0bdf8d-efaf-4388-f257-776d59643041"
      },
      "outputs": [
        {
          "output_type": "stream",
          "name": "stdout",
          "text": [
            "Accuracy of airplane : 72 %\n",
            "Accuracy of automobile : 68 %\n",
            "Accuracy of  bird : 39 %\n",
            "Accuracy of   cat : 55 %\n",
            "Accuracy of  deer : 52 %\n",
            "Accuracy of   dog : 43 %\n",
            "Accuracy of  frog : 82 %\n",
            "Accuracy of horse : 62 %\n",
            "Accuracy of  ship : 79 %\n",
            "Accuracy of truck : 67 %\n"
          ]
        }
      ],
      "source": [
        "# クラスごとの精度を計算\n",
        "class_correct = list(0. for i in range(10))\n",
        "class_total = list(0. for i in range(10))\n",
        "with torch.no_grad():\n",
        "    for data in testloader:\n",
        "        images, labels = data\n",
        "        if torch.cuda.is_available():\n",
        "            images, labels = images.to(device), labels.to(device)\n",
        "        outputs = net(images)\n",
        "        _, predicted = torch.max(outputs, 1)\n",
        "        c = (predicted == labels).squeeze()\n",
        "        for i in range(batch_size):\n",
        "            label = labels[i]\n",
        "            class_correct[label] += c[i].item()\n",
        "            class_total[label] += 1\n",
        "for i in range(10):\n",
        "    print('Accuracy of %5s : %2d %%' % (classes[i], 100 * class_correct[i] / class_total[i]))"
      ]
    },
    {
      "cell_type": "code",
      "source": [
        "print(f'/content/{csvname}')"
      ],
      "metadata": {
        "colab": {
          "base_uri": "https://localhost:8080/"
        },
        "id": "8cdFYv5QPhEj",
        "outputId": "95a3316b-5ac4-46e8-e2d4-ba819fa75e6d"
      },
      "execution_count": 50,
      "outputs": [
        {
          "output_type": "stream",
          "name": "stdout",
          "text": [
            "/content/confc_drop.csv\n"
          ]
        }
      ]
    },
    {
      "cell_type": "code",
      "execution_count": 51,
      "metadata": {
        "colab": {
          "base_uri": "https://localhost:8080/",
          "height": 1000
        },
        "id": "Kpm4Thjm4eXJ",
        "outputId": "0c11699c-14c6-4ec9-bb9f-16261d4d9196"
      },
      "outputs": [
        {
          "output_type": "display_data",
          "data": {
            "text/plain": [
              "<Figure size 1200x600 with 1 Axes>"
            ],
            "image/png": "[encoded data removed]"
          },
          "metadata": {}
        },
        {
          "output_type": "display_data",
          "data": {
            "text/plain": [
              "<Figure size 1200x600 with 1 Axes>"
            ],
            "image/png": "[encoded data removed]"
          },
          "metadata": {}
        }
      ],
      "source": [
        "import pandas as pd\n",
        "import matplotlib.pyplot as plt\n",
        "\n",
        "# CSVファイルからデータを読み込む\n",
        "data = pd.read_csv(f'/content/{csvname}')\n",
        "\n",
        "# エポックごとの損失と精度のデータを取得\n",
        "train_loss = data[data['batch'].notna()]['loss'].values\n",
        "val_accuracy = data[data['batch'].isna()]['accuracy'].values\n",
        "epochs = data[data['batch'].isna()]['epoch'].values\n",
        "\n",
        "# プロット\n",
        "plt.figure(figsize=(12, 6))\n",
        "plt.plot(epochs, train_loss[:len(epochs)], label='Training Loss')\n",
        "plt.title('Training Loss')\n",
        "plt.xlabel('Epoch')\n",
        "plt.ylabel('Loss')\n",
        "plt.legend(loc='upper right')\n",
        "plt.grid(True)\n",
        "plt.show()\n",
        "\n",
        "plt.figure(figsize=(12, 6))\n",
        "plt.plot(epochs, val_accuracy, label='Validation Accuracy')\n",
        "plt.title('Validation Accuracy')\n",
        "plt.xlabel('Epoch')\n",
        "plt.ylabel('Accuracy')\n",
        "plt.legend(loc='lower right')\n",
        "plt.grid(True)\n",
        "plt.show()"
      ]
    },
    {
      "cell_type": "code",
      "execution_count": 52,
      "metadata": {
        "colab": {
          "base_uri": "https://localhost:8080/",
          "height": 17
        },
        "id": "lUEshLFvOEdK",
        "outputId": "5319fee0-d83f-4d4e-9539-f58b490c4287"
      },
      "outputs": [
        {
          "output_type": "display_data",
          "data": {
            "text/plain": [
              "<IPython.core.display.Javascript object>"
            ],
            "application/javascript": [
              "\n",
              "    async function download(id, filename, size) {\n",
              "      if (!google.colab.kernel.accessAllowed) {\n",
              "        return;\n",
              "      }\n",
              "      const div = document.createElement('div');\n",
              "      const label = document.createElement('label');\n",
              "      label.textContent = `Downloading \"${filename}\": `;\n",
              "      div.appendChild(label);\n",
              "      const progress = document.createElement('progress');\n",
              "      progress.max = size;\n",
              "      div.appendChild(progress);\n",
              "      document.body.appendChild(div);\n",
              "\n",
              "      const buffers = [];\n",
              "      let downloaded = 0;\n",
              "\n",
              "      const channel = await google.colab.kernel.comms.open(id);\n",
              "      // Send a message to notify the kernel that we're ready.\n",
              "      channel.send({})\n",
              "\n",
              "      for await (const message of channel.messages) {\n",
              "        // Send a message to notify the kernel that we're ready.\n",
              "        channel.send({})\n",
              "        if (message.buffers) {\n",
              "          for (const buffer of message.buffers) {\n",
              "            buffers.push(buffer);\n",
              "            downloaded += buffer.byteLength;\n",
              "            progress.value = downloaded;\n",
              "          }\n",
              "        }\n",
              "      }\n",
              "      const blob = new Blob(buffers, {type: 'application/binary'});\n",
              "      const a = document.createElement('a');\n",
              "      a.href = window.URL.createObjectURL(blob);\n",
              "      a.download = filename;\n",
              "      div.appendChild(a);\n",
              "      a.click();\n",
              "      div.remove();\n",
              "    }\n",
              "  "
            ]
          },
          "metadata": {}
        },
        {
          "output_type": "display_data",
          "data": {
            "text/plain": [
              "<IPython.core.display.Javascript object>"
            ],
            "application/javascript": [
              "download(\"download_aab3a480-22f5-4c5f-88a4-0392f34699a7\", \"confc_drop.csv\", 924)"
            ]
          },
          "metadata": {}
        }
      ],
      "source": [
        "from google.colab import files\n",
        "\n",
        "filename = f'/content/{csvname}'\n",
        "files.download(filename)"
      ]
    }
  ],
  "metadata": {
    "accelerator": "GPU",
    "colab": {
      "gpuType": "T4",
      "provenance": [],
      "include_colab_link": true
    },
    "kernelspec": {
      "display_name": "Python 3",
      "name": "python3"
    },
    "language_info": {
      "name": "python",
      "version": "3.12.3"
    }
  },
  "nbformat": 4,
  "nbformat_minor": 0
}