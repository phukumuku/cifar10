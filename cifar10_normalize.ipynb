{
  "cells": [
    {
      "cell_type": "markdown",
      "metadata": {
        "id": "view-in-github",
        "colab_type": "text"
      },
      "source": [
        "<a href=\"https://colab.research.google.com/github/phukumuku/cifar10/blob/change_normalize/cifar10_normalize.ipynb\" target=\"_parent\"><img src=\"https://colab.research.google.com/assets/colab-badge.svg\" alt=\"Open In Colab\"/></a>"
      ]
    },
    {
      "cell_type": "markdown",
      "metadata": {
        "id": "cvIb75QoCS3l"
      },
      "source": [
        "ツールのインポート"
      ]
    },
    {
      "cell_type": "code",
      "execution_count": null,
      "metadata": {
        "id": "S5MjgvPRc11g"
      },
      "outputs": [],
      "source": [
        "import torch\n",
        "import torchvision\n",
        "import torchvision.transforms as transforms\n",
        "import torch.nn as nn\n",
        "import torch.nn.functional as F\n",
        "import torch.optim as optim"
      ]
    },
    {
      "cell_type": "markdown",
      "metadata": {
        "id": "11jMqoxuCZau"
      },
      "source": [
        "ツール（pytorch）のバージョンやGPUの設定確認\n",
        "- ランタイム -> ランタイムのタイプを変更 -> T4が選択されていればTrueと表示されるはず"
      ]
    },
    {
      "cell_type": "code",
      "execution_count": null,
      "metadata": {
        "colab": {
          "base_uri": "https://localhost:8080/"
        },
        "id": "fY_XaooObNRe",
        "outputId": "75bd7ef6-244d-4786-dd35-9ca548561066"
      },
      "outputs": [
        {
          "output_type": "stream",
          "name": "stdout",
          "text": [
            "2.2.1+cu121\n",
            "False\n"
          ]
        }
      ],
      "source": [
        "print(torch.__version__)\n",
        "print(torch.cuda.is_available())\n",
        "device = torch.device('cuda:0' if torch.cuda.is_available() else 'cpu')"
      ]
    },
    {
      "cell_type": "markdown",
      "metadata": {
        "id": "yKotwuNNC_N-"
      },
      "source": [
        "データセットのロードと前処理を実施"
      ]
    },
    {
      "cell_type": "code",
      "execution_count": null,
      "metadata": {
        "colab": {
          "base_uri": "https://localhost:8080/"
        },
        "id": "i1_iK9DbPVWS",
        "outputId": "b68aa76e-2aa5-4c2c-c529-da5b1a0e46cb"
      },
      "outputs": [
        {
          "output_type": "stream",
          "name": "stdout",
          "text": [
            "Files already downloaded and verified\n",
            "Files already downloaded and verified\n"
          ]
        }
      ],
      "source": [
        "transform = transforms.Compose(\n",
        "    [transforms.ToTensor(), transforms.Normalize((0.4914, 0.4822, 0.4465), (0.2023, 0.1994, 0.2010))]\n",
        ")\n",
        "\n",
        "batch_size = 4\n",
        "\n",
        "trainset = torchvision.datasets.CIFAR10(root='./data', train=True,\n",
        "                                        download=True, transform=transform)\n",
        "trainloader = torch.utils.data.DataLoader(trainset, batch_size=4,\n",
        "                                          shuffle=True, num_workers=2)\n",
        "\n",
        "testset = torchvision.datasets.CIFAR10(root='./data', train=False,\n",
        "                                       download=True, transform=transform)\n",
        "testloader = torch.utils.data.DataLoader(testset, batch_size=4,\n",
        "                                         shuffle=False, num_workers=2)\n"
      ]
    },
    {
      "cell_type": "markdown",
      "metadata": {
        "id": "G_QjcnV3DDQx"
      },
      "source": [
        "分類用のニューラルネットワークの設定"
      ]
    },
    {
      "cell_type": "code",
      "execution_count": null,
      "metadata": {
        "id": "ORoICS6OPfCq"
      },
      "outputs": [],
      "source": [
        "class Net(nn.Module):\n",
        "    def __init__(self):\n",
        "        super().__init__()\n",
        "        self.conv1 = nn.Conv2d(3, 6, 3, padding=1)\n",
        "        self.fc1 = nn.Linear(6*32*32, 64)\n",
        "        self.fc2 = nn.Linear(64, 10)\n",
        "\n",
        "    def forward(self, x):\n",
        "        x = F.relu(self.conv1(x))\n",
        "        x = torch.flatten(x, 1) # flatten all dimensions except batch\n",
        "        x = F.relu(self.fc1(x))\n",
        "        x = self.fc2(x)\n",
        "        return x"
      ]
    },
    {
      "cell_type": "code",
      "source": [
        "def test(net, testloader):\n",
        "    net.eval()  # モデルを評価モードに切り替える\n",
        "    correct = 0\n",
        "    total = 0\n",
        "    with torch.no_grad():\n",
        "        for data in testloader:\n",
        "            images, labels = data\n",
        "            if torch.cuda.is_available():\n",
        "                images, labels = images.to(device), labels.to(device)\n",
        "            outputs = net(images)\n",
        "            _, predicted = torch.max(outputs.data, 1)\n",
        "            total += labels.size(0)\n",
        "            correct += (predicted == labels).sum().item()\n",
        "\n",
        "    accuracy = 100 * correct / total\n",
        "    print('Accuracy of the network on the 10000 test images: %d %%' % accuracy)\n",
        "    return accuracy"
      ],
      "metadata": {
        "id": "i_lTWucFo5xm"
      },
      "execution_count": null,
      "outputs": []
    },
    {
      "cell_type": "markdown",
      "metadata": {
        "id": "vP1_7xLkDQZr"
      },
      "source": [
        "分類用ニューラルネットワークのインスタンス化と学習方法の設定"
      ]
    },
    {
      "cell_type": "code",
      "execution_count": null,
      "metadata": {
        "id": "abzQ0jbTPjer"
      },
      "outputs": [],
      "source": [
        "net = Net()\n",
        "# transfer to gpu\n",
        "if torch.cuda.is_available():\n",
        "  net = net.to(device)\n",
        "criterion = nn.CrossEntropyLoss()\n",
        "optimizer = optim.SGD(net.parameters(), lr=0.001, momentum=0.9)"
      ]
    },
    {
      "cell_type": "markdown",
      "metadata": {
        "id": "Ver73uk_DftR"
      },
      "source": [
        "学習"
      ]
    },
    {
      "cell_type": "code",
      "execution_count": null,
      "metadata": {
        "colab": {
          "base_uri": "https://localhost:8080/"
        },
        "id": "n-Q0OtogPk1W",
        "outputId": "5defe81a-4213-42b7-bcff-dc5dd168ecce"
      },
      "outputs": [
        {
          "output_type": "stream",
          "name": "stderr",
          "text": [
            "/usr/lib/python3.10/multiprocessing/popen_fork.py:66: RuntimeWarning: os.fork() was called. os.fork() is incompatible with multithreaded code, and JAX is multithreaded, so this will likely lead to a deadlock.\n",
            "  self.pid = os.fork()\n"
          ]
        },
        {
          "output_type": "stream",
          "name": "stdout",
          "text": [
            "[1,  2000] loss: 1.851\n",
            "[1,  4000] loss: 1.669\n",
            "[1,  6000] loss: 1.572\n",
            "[1,  8000] loss: 1.533\n",
            "[1, 10000] loss: 1.505\n",
            "[1, 12000] loss: 1.485\n",
            "Epoch 1\n",
            "Accuracy of the network on the 10000 test images: 48 %\n",
            "[2,  2000] loss: 1.359\n",
            "[2,  4000] loss: 1.392\n",
            "[2,  6000] loss: 1.390\n",
            "[2,  8000] loss: 1.411\n",
            "[2, 10000] loss: 1.387\n",
            "[2, 12000] loss: 1.364\n",
            "Epoch 2\n",
            "Accuracy of the network on the 10000 test images: 50 %\n",
            "[3,  2000] loss: 1.235\n",
            "[3,  4000] loss: 1.269\n",
            "[3,  6000] loss: 1.251\n",
            "[3,  8000] loss: 1.267\n",
            "[3, 10000] loss: 1.268\n",
            "[3, 12000] loss: 1.296\n",
            "Epoch 3\n",
            "Accuracy of the network on the 10000 test images: 52 %\n",
            "[4,  2000] loss: 1.097\n",
            "[4,  4000] loss: 1.137\n",
            "[4,  6000] loss: 1.177\n",
            "[4,  8000] loss: 1.147\n",
            "[4, 10000] loss: 1.182\n",
            "[4, 12000] loss: 1.188\n",
            "Epoch 4\n",
            "Accuracy of the network on the 10000 test images: 53 %\n",
            "[5,  2000] loss: 0.974\n",
            "[5,  4000] loss: 1.039\n",
            "[5,  6000] loss: 1.020\n",
            "[5,  8000] loss: 1.080\n",
            "[5, 10000] loss: 1.110\n",
            "[5, 12000] loss: 1.102\n",
            "Epoch 5\n",
            "Accuracy of the network on the 10000 test images: 52 %\n",
            "[6,  2000] loss: 0.877\n",
            "[6,  4000] loss: 0.922\n",
            "[6,  6000] loss: 0.950\n",
            "[6,  8000] loss: 0.997\n",
            "[6, 10000] loss: 0.972\n",
            "[6, 12000] loss: 1.005\n",
            "Epoch 6\n",
            "Accuracy of the network on the 10000 test images: 50 %\n",
            "[7,  2000] loss: 0.774\n",
            "[7,  4000] loss: 0.811\n",
            "[7,  6000] loss: 0.842\n",
            "[7,  8000] loss: 0.884\n",
            "[7, 10000] loss: 0.900\n",
            "[7, 12000] loss: 0.901\n",
            "Epoch 7\n",
            "Accuracy of the network on the 10000 test images: 51 %\n",
            "[8,  2000] loss: 0.673\n",
            "[8,  4000] loss: 0.722\n",
            "[8,  6000] loss: 0.763\n",
            "[8,  8000] loss: 0.774\n",
            "[8, 10000] loss: 0.817\n",
            "[8, 12000] loss: 0.858\n",
            "Epoch 8\n",
            "Accuracy of the network on the 10000 test images: 50 %\n",
            "[9,  2000] loss: 0.612\n",
            "[9,  4000] loss: 0.626\n",
            "[9,  6000] loss: 0.670\n",
            "[9,  8000] loss: 0.713\n",
            "[9, 10000] loss: 0.711\n",
            "[9, 12000] loss: 0.785\n",
            "Epoch 9\n",
            "Accuracy of the network on the 10000 test images: 50 %\n",
            "[10,  2000] loss: 0.482\n",
            "[10,  4000] loss: 0.545\n",
            "[10,  6000] loss: 0.582\n",
            "[10,  8000] loss: 0.640\n",
            "[10, 10000] loss: 0.640\n",
            "[10, 12000] loss: 0.709\n",
            "Epoch 10\n",
            "Accuracy of the network on the 10000 test images: 50 %\n",
            "Finished Training\n"
          ]
        }
      ],
      "source": [
        "import csv\n",
        "\n",
        "# CSVファイルの準備\n",
        "with open('training_results.csv', 'w', newline='') as csvfile:\n",
        "    fieldnames = ['epoch', 'batch', 'loss', 'accuracy']\n",
        "    writer = csv.DictWriter(csvfile, fieldnames=fieldnames)\n",
        "    writer.writeheader()\n",
        "\n",
        "    for epoch in range(10):  # loop over the dataset multiple times\n",
        "        net.train()  # 訓練モードに切り替える\n",
        "        running_loss = 0.0\n",
        "        for i, data in enumerate(trainloader, 0):\n",
        "            # get the inputs; data is a list of [inputs, labels]\n",
        "            inputs, labels = data\n",
        "            if torch.cuda.is_available():\n",
        "                inputs = inputs.to(device)\n",
        "                labels = labels.to(device)\n",
        "            optimizer.zero_grad()\n",
        "\n",
        "            # forward + backward + optimize\n",
        "            outputs = net(inputs)\n",
        "            loss = criterion(outputs, labels)\n",
        "            loss.backward()\n",
        "            optimizer.step()\n",
        "\n",
        "            # print statistics\n",
        "            running_loss += loss.item()\n",
        "            if i % 2000 == 1999:  # print every 2000 mini-batches\n",
        "                print('[%d, %5d] loss: %.3f' %\n",
        "                      (epoch + 1, i + 1, running_loss / 2000))\n",
        "                writer.writerow({'epoch': epoch + 1, 'batch': i + 1, 'loss': running_loss / 2000, 'accuracy': ''})\n",
        "                running_loss = 0.0\n",
        "\n",
        "        # 各エポックの最後に評価を行う\n",
        "        print(f'Epoch {epoch + 1}')\n",
        "        accuracy = test(net, testloader)\n",
        "\n",
        "        # エポックの結果をCSVに書き込む\n",
        "        writer.writerow({'epoch': epoch + 1, 'batch': '', 'loss': '', 'accuracy': accuracy})\n",
        "\n",
        "print('Finished Training')"
      ]
    }
  ],
  "metadata": {
    "accelerator": "GPU",
    "colab": {
      "gpuType": "T4",
      "provenance": [],
      "include_colab_link": true
    },
    "kernelspec": {
      "display_name": "Python 3",
      "name": "python3"
    },
    "language_info": {
      "name": "python",
      "version": "3.12.3"
    }
  },
  "nbformat": 4,
  "nbformat_minor": 0
}