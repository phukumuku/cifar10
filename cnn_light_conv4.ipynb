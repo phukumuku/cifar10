{
  "cells": [
    {
      "cell_type": "markdown",
      "metadata": {
        "id": "view-in-github",
        "colab_type": "text"
      },
      "source": [
        "<a href=\"https://colab.research.google.com/github/phukumuku/cifar10/blob/test/cnn_light_conv4.ipynb\" target=\"_parent\"><img src=\"https://colab.research.google.com/assets/colab-badge.svg\" alt=\"Open In Colab\"/></a>"
      ]
    },
    {
      "cell_type": "code",
      "source": [
        "csvname = input()+'.csv'"
      ],
      "metadata": {
        "id": "v0zWLt1ITzpN",
        "colab": {
          "base_uri": "https://localhost:8080/"
        },
        "outputId": "495ae999-de49-4b90-b2ab-bd00027cc055"
      },
      "execution_count": 1,
      "outputs": [
        {
          "name": "stdout",
          "output_type": "stream",
          "text": [
            "conv4\n"
          ]
        }
      ]
    },
    {
      "cell_type": "markdown",
      "metadata": {
        "id": "cvIb75QoCS3l"
      },
      "source": [
        "ツールのインポート"
      ]
    },
    {
      "cell_type": "code",
      "execution_count": 2,
      "metadata": {
        "id": "S5MjgvPRc11g"
      },
      "outputs": [],
      "source": [
        "import torch\n",
        "import torchvision\n",
        "import torchvision.transforms as transforms\n",
        "import torch.nn as nn\n",
        "import torch.nn.functional as F\n",
        "import torch.optim as optim"
      ]
    },
    {
      "cell_type": "markdown",
      "metadata": {
        "id": "11jMqoxuCZau"
      },
      "source": [
        "ツール（pytorch）のバージョンやGPUの設定確認\n",
        "- ランタイム -> ランタイムのタイプを変更 -> T4が選択されていればTrueと表示されるはず"
      ]
    },
    {
      "cell_type": "code",
      "execution_count": 3,
      "metadata": {
        "colab": {
          "base_uri": "https://localhost:8080/"
        },
        "id": "fY_XaooObNRe",
        "outputId": "787ff759-27ab-4dc9-e104-2b5cbdd4e388"
      },
      "outputs": [
        {
          "output_type": "stream",
          "name": "stdout",
          "text": [
            "2.3.0+cu121\n",
            "True\n"
          ]
        }
      ],
      "source": [
        "print(torch.__version__)\n",
        "print(torch.cuda.is_available())\n",
        "device = torch.device('cuda:0' if torch.cuda.is_available() else 'cpu')"
      ]
    },
    {
      "cell_type": "markdown",
      "metadata": {
        "id": "yKotwuNNC_N-"
      },
      "source": [
        "データセットのロードと前処理を実施"
      ]
    },
    {
      "cell_type": "code",
      "execution_count": 4,
      "metadata": {
        "colab": {
          "base_uri": "https://localhost:8080/"
        },
        "id": "i1_iK9DbPVWS",
        "outputId": "ebb557f4-aadb-4611-e4c7-9a267b33755e"
      },
      "outputs": [
        {
          "output_type": "stream",
          "name": "stdout",
          "text": [
            "Downloading https://www.cs.toronto.edu/~kriz/cifar-10-python.tar.gz to ./data/cifar-10-python.tar.gz\n"
          ]
        },
        {
          "output_type": "stream",
          "name": "stderr",
          "text": [
            "100%|██████████| 170498071/170498071 [00:12<00:00, 13144758.08it/s]\n"
          ]
        },
        {
          "output_type": "stream",
          "name": "stdout",
          "text": [
            "Extracting ./data/cifar-10-python.tar.gz to ./data\n",
            "Files already downloaded and verified\n"
          ]
        }
      ],
      "source": [
        "transform = transforms.Compose(\n",
        "    [transforms.ToTensor(), transforms.Normalize((0.5, 0.5, 0.5), (0.5, 0.5, 0.5))]\n",
        ")\n",
        "\n",
        "batch_size = 4\n",
        "\n",
        "trainset = torchvision.datasets.CIFAR10(root='./data', train=True,\n",
        "                                        download=True, transform=transform)\n",
        "trainloader = torch.utils.data.DataLoader(trainset, batch_size=batch_size,\n",
        "                                          shuffle=True, num_workers=2)\n",
        "\n",
        "testset = torchvision.datasets.CIFAR10(root='./data', train=False,\n",
        "                                       download=True, transform=transform)\n",
        "testloader = torch.utils.data.DataLoader(testset, batch_size=batch_size,\n",
        "                                         shuffle=False, num_workers=2)\n",
        "\n",
        "classes = trainset.classes"
      ]
    },
    {
      "cell_type": "markdown",
      "metadata": {
        "id": "G_QjcnV3DDQx"
      },
      "source": [
        "分類用のニューラルネットワークの設定"
      ]
    },
    {
      "cell_type": "code",
      "execution_count": 5,
      "metadata": {
        "id": "ORoICS6OPfCq"
      },
      "outputs": [],
      "source": [
        "class Net(nn.Module):\n",
        "    def __init__(self):\n",
        "        super(Net, self).__init__()\n",
        "        self.conv1 = nn.Conv2d(3, 6, 3, padding=1)  # 畳み込み層1\n",
        "        self.conv2 = nn.Conv2d(6, 32, 3, padding=1)  # 畳み込み層2\n",
        "        self.conv3 = nn.Conv2d(32, 128, 3, padding=1)\n",
        "        self.conv4 = nn.Conv2d(128, 512, 3, padding=1)\n",
        "        self.pool = nn.MaxPool2d(2, 2)  # プーリング層\n",
        "        self.fc1 = nn.Linear(512 * 8 * 8, 256)  # 全結合層1（プーリング後のサイズに合わせる）\n",
        "        self.fc2 = nn.Linear(256, 64)  # 全結合層2\n",
        "        self.fc3 = nn.Linear(64, 10)  # 出力層\n",
        "\n",
        "    def forward(self, x):\n",
        "        x = self.pool(F.relu(self.conv1(x)))  # 畳み込み -> ReLU -> プーリング\n",
        "        x = F.relu(self.conv2(x)) # 畳み込み -> ReLU -> プーリング\n",
        "        x = F.relu(self.conv3(x))\n",
        "        x = self.pool(F.relu(self.conv4(x)))\n",
        "        x = torch.flatten(x, 1)  # バッチ次元を除く全ての次元をフラット化\n",
        "        x = F.relu(self.fc1(x)) # 全結合層1 -> ReLU -> ドロップアウト\n",
        "        x = F.relu(self.fc2(x)) # 全結合層2 -> ReLU -> ドロップアウト\n",
        "        # x = F.relu(self.fc3(x))\n",
        "        x = self.fc3(x)  # 出力層\n",
        "        return x"
      ]
    },
    {
      "cell_type": "code",
      "execution_count": 6,
      "metadata": {
        "id": "YrXRC55ivk0c"
      },
      "outputs": [],
      "source": [
        "def test(net, testloader):\n",
        "    net.eval()  # モデルを評価モードに切り替える\n",
        "    correct = 0\n",
        "    total = 0\n",
        "    with torch.no_grad():\n",
        "        for data in testloader:\n",
        "            images, labels = data\n",
        "            if torch.cuda.is_available():\n",
        "                images, labels = images.to(device), labels.to(device)\n",
        "            outputs = net(images)\n",
        "            _, predicted = torch.max(outputs.data, 1)\n",
        "            total += labels.size(0)\n",
        "            correct += (predicted == labels).sum().item()\n",
        "\n",
        "    accuracy = 100 * correct / total\n",
        "    print('Accuracy of the network on the 10000 test images: %d %%' % accuracy)\n",
        "    return accuracy"
      ]
    },
    {
      "cell_type": "markdown",
      "metadata": {
        "id": "vP1_7xLkDQZr"
      },
      "source": [
        "分類用ニューラルネットワークのインスタンス化と学習方法の設定"
      ]
    },
    {
      "cell_type": "code",
      "execution_count": 7,
      "metadata": {
        "id": "abzQ0jbTPjer"
      },
      "outputs": [],
      "source": [
        "net = Net()\n",
        "# transfer to gpu\n",
        "if torch.cuda.is_available():\n",
        "  net = net.to(device)\n",
        "criterion = nn.CrossEntropyLoss()\n",
        "optimizer = optim.SGD(net.parameters(), lr=0.001, momentum=0.9)"
      ]
    },
    {
      "cell_type": "markdown",
      "metadata": {
        "id": "Ver73uk_DftR"
      },
      "source": [
        "学習"
      ]
    },
    {
      "cell_type": "code",
      "execution_count": 8,
      "metadata": {
        "colab": {
          "base_uri": "https://localhost:8080/"
        },
        "id": "n-Q0OtogPk1W",
        "outputId": "7bd419b9-f7be-49fb-da73-f6c7603beea5"
      },
      "outputs": [
        {
          "output_type": "stream",
          "name": "stdout",
          "text": [
            "[1,  2000] loss: 2.193\n",
            "[1,  4000] loss: 1.802\n",
            "[1,  6000] loss: 1.617\n",
            "[1,  8000] loss: 1.497\n",
            "[1, 10000] loss: 1.404\n",
            "[1, 12000] loss: 1.345\n",
            "Epoch 1\n",
            "Accuracy of the network on the 10000 test images: 56 %\n",
            "[2,  2000] loss: 1.217\n",
            "[2,  4000] loss: 1.150\n",
            "[2,  6000] loss: 1.094\n",
            "[2,  8000] loss: 1.081\n",
            "[2, 10000] loss: 1.041\n",
            "[2, 12000] loss: 1.013\n",
            "Epoch 2\n",
            "Accuracy of the network on the 10000 test images: 64 %\n",
            "[3,  2000] loss: 0.853\n",
            "[3,  4000] loss: 0.851\n",
            "[3,  6000] loss: 0.840\n",
            "[3,  8000] loss: 0.854\n",
            "[3, 10000] loss: 0.814\n",
            "[3, 12000] loss: 0.817\n",
            "Epoch 3\n",
            "Accuracy of the network on the 10000 test images: 69 %\n",
            "[4,  2000] loss: 0.612\n",
            "[4,  4000] loss: 0.609\n",
            "[4,  6000] loss: 0.611\n",
            "[4,  8000] loss: 0.634\n",
            "[4, 10000] loss: 0.644\n",
            "[4, 12000] loss: 0.635\n",
            "Epoch 4\n",
            "Accuracy of the network on the 10000 test images: 70 %\n",
            "[5,  2000] loss: 0.363\n",
            "[5,  4000] loss: 0.374\n",
            "[5,  6000] loss: 0.409\n",
            "[5,  8000] loss: 0.422\n",
            "[5, 10000] loss: 0.440\n",
            "[5, 12000] loss: 0.454\n",
            "Epoch 5\n",
            "Accuracy of the network on the 10000 test images: 71 %\n",
            "[6,  2000] loss: 0.194\n",
            "[6,  4000] loss: 0.243\n",
            "[6,  6000] loss: 0.256\n",
            "[6,  8000] loss: 0.270\n",
            "[6, 10000] loss: 0.290\n",
            "[6, 12000] loss: 0.291\n",
            "Epoch 6\n",
            "Accuracy of the network on the 10000 test images: 69 %\n",
            "[7,  2000] loss: 0.127\n",
            "[7,  4000] loss: 0.166\n",
            "[7,  6000] loss: 0.186\n",
            "[7,  8000] loss: 0.180\n",
            "[7, 10000] loss: 0.201\n",
            "[7, 12000] loss: 0.235\n",
            "Epoch 7\n",
            "Accuracy of the network on the 10000 test images: 69 %\n",
            "[8,  2000] loss: 0.112\n",
            "[8,  4000] loss: 0.135\n",
            "[8,  6000] loss: 0.141\n",
            "[8,  8000] loss: 0.133\n",
            "[8, 10000] loss: 0.174\n",
            "[8, 12000] loss: 0.161\n",
            "Epoch 8\n",
            "Accuracy of the network on the 10000 test images: 70 %\n",
            "[9,  2000] loss: 0.079\n",
            "[9,  4000] loss: 0.102\n",
            "[9,  6000] loss: 0.100\n",
            "[9,  8000] loss: 0.103\n",
            "[9, 10000] loss: 0.149\n",
            "[9, 12000] loss: 0.139\n",
            "Epoch 9\n",
            "Accuracy of the network on the 10000 test images: 70 %\n",
            "[10,  2000] loss: 0.077\n",
            "[10,  4000] loss: 0.084\n",
            "[10,  6000] loss: 0.090\n",
            "[10,  8000] loss: 0.077\n",
            "[10, 10000] loss: 0.098\n",
            "[10, 12000] loss: 0.107\n",
            "Epoch 10\n",
            "Accuracy of the network on the 10000 test images: 69 %\n",
            "Finished Training\n"
          ]
        }
      ],
      "source": [
        "import csv\n",
        "\n",
        "# CSVファイルの準備\n",
        "with open(csvname, 'w', newline='') as csvfile:\n",
        "    fieldnames = ['epoch', 'batch', 'loss', 'accuracy']\n",
        "    writer = csv.DictWriter(csvfile, fieldnames=fieldnames)\n",
        "    writer.writeheader()\n",
        "\n",
        "    for epoch in range(10):  # loop over the dataset multiple times\n",
        "        net.train()  # 訓練モードに切り替える\n",
        "        running_loss = 0.0\n",
        "        for i, data in enumerate(trainloader, 0):\n",
        "            # get the inputs; data is a list of [inputs, labels]\n",
        "            inputs, labels = data\n",
        "            if torch.cuda.is_available():\n",
        "                inputs = inputs.to(device)\n",
        "                labels = labels.to(device)\n",
        "            optimizer.zero_grad()\n",
        "\n",
        "            # forward + backward + optimize\n",
        "            outputs = net(inputs)\n",
        "            loss = criterion(outputs, labels)\n",
        "            loss.backward()\n",
        "            optimizer.step()\n",
        "\n",
        "            # print statistics\n",
        "            running_loss += loss.item()\n",
        "            if i % 2000 == 1999:  # print every 2000 mini-batches\n",
        "                print('[%d, %5d] loss: %.3f' %\n",
        "                      (epoch + 1, i + 1, running_loss / 2000))\n",
        "                writer.writerow({'epoch': epoch + 1, 'batch': i + 1, 'loss': running_loss / 2000, 'accuracy': ''})\n",
        "                running_loss = 0.0\n",
        "\n",
        "        # 各エポックの最後に評価を行う\n",
        "        print(f'Epoch {epoch + 1}')\n",
        "        accuracy = test(net, testloader)\n",
        "\n",
        "        # エポックの結果をCSVに書き込む\n",
        "        writer.writerow({'epoch': epoch + 1, 'batch': '', 'loss': '', 'accuracy': accuracy})\n",
        "\n",
        "print('Finished Training')"
      ]
    },
    {
      "cell_type": "code",
      "execution_count": 9,
      "metadata": {
        "id": "DWmqtenINKVI",
        "colab": {
          "base_uri": "https://localhost:8080/"
        },
        "outputId": "ad381d10-b9d4-4b35-e4af-70958b0134c0"
      },
      "outputs": [
        {
          "output_type": "stream",
          "name": "stdout",
          "text": [
            "Accuracy of airplane : 72 %\n",
            "Accuracy of automobile : 82 %\n",
            "Accuracy of  bird : 57 %\n",
            "Accuracy of   cat : 54 %\n",
            "Accuracy of  deer : 59 %\n",
            "Accuracy of   dog : 59 %\n",
            "Accuracy of  frog : 75 %\n",
            "Accuracy of horse : 71 %\n",
            "Accuracy of  ship : 80 %\n",
            "Accuracy of truck : 85 %\n"
          ]
        }
      ],
      "source": [
        "# クラスごとの精度を計算\n",
        "class_correct = list(0. for i in range(10))\n",
        "class_total = list(0. for i in range(10))\n",
        "with torch.no_grad():\n",
        "    for data in testloader:\n",
        "        images, labels = data\n",
        "        if torch.cuda.is_available():\n",
        "            images, labels = images.to(device), labels.to(device)\n",
        "        outputs = net(images)\n",
        "        _, predicted = torch.max(outputs, 1)\n",
        "        c = (predicted == labels).squeeze()\n",
        "        for i in range(batch_size):\n",
        "            label = labels[i]\n",
        "            class_correct[label] += c[i].item()\n",
        "            class_total[label] += 1\n",
        "for i in range(10):\n",
        "    print('Accuracy of %5s : %2d %%' % (classes[i], 100 * class_correct[i] / class_total[i]))"
      ]
    },
    {
      "cell_type": "code",
      "source": [
        "print(f'/content/{csvname}')"
      ],
      "metadata": {
        "id": "8cdFYv5QPhEj",
        "colab": {
          "base_uri": "https://localhost:8080/"
        },
        "outputId": "fadde90a-aee7-4090-a899-f2c9b22b2415"
      },
      "execution_count": 10,
      "outputs": [
        {
          "output_type": "stream",
          "name": "stdout",
          "text": [
            "/content/conv4.csv\n"
          ]
        }
      ]
    },
    {
      "cell_type": "code",
      "execution_count": 11,
      "metadata": {
        "id": "Kpm4Thjm4eXJ",
        "colab": {
          "base_uri": "https://localhost:8080/",
          "height": 649
        },
        "outputId": "0f4501e0-4bb0-4dfd-ec94-647221d9fd9e"
      },
      "outputs": [
        {
          "output_type": "display_data",
          "data": {
            "text/plain": [
              "<Figure size 600x300 with 1 Axes>"
            ],
            "image/png": "[encoded data removed]"
          },
          "metadata": {}
        },
        {
          "output_type": "display_data",
          "data": {
            "text/plain": [
              "<Figure size 600x300 with 1 Axes>"
            ],
            "image/png": "[encoded data removed]"
          },
          "metadata": {}
        }
      ],
      "source": [
        "import pandas as pd\n",
        "import matplotlib.pyplot as plt\n",
        "\n",
        "# CSVファイルからデータを読み込む\n",
        "data = pd.read_csv(f'/content/{csvname}')\n",
        "\n",
        "# エポックごとの損失と精度のデータを取得\n",
        "train_loss = data[data['batch'].notna()]['loss'].values\n",
        "val_accuracy = data[data['batch'].isna()]['accuracy'].values\n",
        "epochs = data[data['batch'].isna()]['epoch'].values\n",
        "\n",
        "# プロット\n",
        "plt.figure(figsize=(6, 3))\n",
        "plt.plot(epochs, train_loss[:len(epochs)], label='Training Loss')\n",
        "plt.title('Training Loss')\n",
        "plt.xlabel('Epoch')\n",
        "plt.ylabel('Loss')\n",
        "plt.legend(loc='upper right')\n",
        "plt.grid(True)\n",
        "plt.show()\n",
        "\n",
        "plt.figure(figsize=(6, 3))\n",
        "plt.plot(epochs, val_accuracy, label='Validation Accuracy')\n",
        "plt.title('Validation Accuracy')\n",
        "plt.xlabel('Epoch')\n",
        "plt.ylabel('Accuracy')\n",
        "plt.legend(loc='lower right')\n",
        "plt.grid(True)\n",
        "plt.show()"
      ]
    },
    {
      "cell_type": "code",
      "execution_count": 12,
      "metadata": {
        "id": "lUEshLFvOEdK",
        "colab": {
          "base_uri": "https://localhost:8080/",
          "height": 17
        },
        "outputId": "9cbd4ff1-4b44-4854-e4bd-a98245315755"
      },
      "outputs": [
        {
          "output_type": "display_data",
          "data": {
            "text/plain": [
              "<IPython.core.display.Javascript object>"
            ],
            "application/javascript": [
              "\n",
              "    async function download(id, filename, size) {\n",
              "      if (!google.colab.kernel.accessAllowed) {\n",
              "        return;\n",
              "      }\n",
              "      const div = document.createElement('div');\n",
              "      const label = document.createElement('label');\n",
              "      label.textContent = `Downloading \"${filename}\": `;\n",
              "      div.appendChild(label);\n",
              "      const progress = document.createElement('progress');\n",
              "      progress.max = size;\n",
              "      div.appendChild(progress);\n",
              "      document.body.appendChild(div);\n",
              "\n",
              "      const buffers = [];\n",
              "      let downloaded = 0;\n",
              "\n",
              "      const channel = await google.colab.kernel.comms.open(id);\n",
              "      // Send a message to notify the kernel that we're ready.\n",
              "      channel.send({})\n",
              "\n",
              "      for await (const message of channel.messages) {\n",
              "        // Send a message to notify the kernel that we're ready.\n",
              "        channel.send({})\n",
              "        if (message.buffers) {\n",
              "          for (const buffer of message.buffers) {\n",
              "            buffers.push(buffer);\n",
              "            downloaded += buffer.byteLength;\n",
              "            progress.value = downloaded;\n",
              "          }\n",
              "        }\n",
              "      }\n",
              "      const blob = new Blob(buffers, {type: 'application/binary'});\n",
              "      const a = document.createElement('a');\n",
              "      a.href = window.URL.createObjectURL(blob);\n",
              "      a.download = filename;\n",
              "      div.appendChild(a);\n",
              "      a.click();\n",
              "      div.remove();\n",
              "    }\n",
              "  "
            ]
          },
          "metadata": {}
        },
        {
          "output_type": "display_data",
          "data": {
            "text/plain": [
              "<IPython.core.display.Javascript object>"
            ],
            "application/javascript": [
              "download(\"download_7ec947de-39ee-498f-a8fd-8d815ed112bf\", \"conv4.csv\", 1865)"
            ]
          },
          "metadata": {}
        }
      ],
      "source": [
        "from google.colab import files\n",
        "\n",
        "filename = f'/content/{csvname}'\n",
        "files.download(filename)"
      ]
    }
  ],
  "metadata": {
    "accelerator": "GPU",
    "colab": {
      "gpuType": "T4",
      "provenance": [],
      "include_colab_link": true
    },
    "kernelspec": {
      "display_name": "Python 3",
      "name": "python3"
    },
    "language_info": {
      "name": "python",
      "version": "3.12.3"
    }
  },
  "nbformat": 4,
  "nbformat_minor": 0
}