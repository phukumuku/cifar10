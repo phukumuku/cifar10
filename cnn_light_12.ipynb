{
  "cells": [
    {
      "cell_type": "markdown",
      "metadata": {
        "id": "view-in-github",
        "colab_type": "text"
      },
      "source": [
        "<a href=\"https://colab.research.google.com/github/phukumuku/cifar10/blob/test/cnn_light_12.ipynb\" target=\"_parent\"><img src=\"https://colab.research.google.com/assets/colab-badge.svg\" alt=\"Open In Colab\"/></a>"
      ]
    },
    {
      "cell_type": "markdown",
      "metadata": {
        "id": "cvIb75QoCS3l"
      },
      "source": [
        "ツールのインポート"
      ]
    },
    {
      "cell_type": "code",
      "execution_count": 1,
      "metadata": {
        "id": "S5MjgvPRc11g"
      },
      "outputs": [],
      "source": [
        "import torch\n",
        "import torchvision\n",
        "import torchvision.transforms as transforms\n",
        "import torch.nn as nn\n",
        "import torch.nn.functional as F\n",
        "import torch.optim as optim"
      ]
    },
    {
      "cell_type": "markdown",
      "metadata": {
        "id": "11jMqoxuCZau"
      },
      "source": [
        "ツール（pytorch）のバージョンやGPUの設定確認\n",
        "- ランタイム -> ランタイムのタイプを変更 -> T4が選択されていればTrueと表示されるはず"
      ]
    },
    {
      "cell_type": "code",
      "execution_count": 2,
      "metadata": {
        "colab": {
          "base_uri": "https://localhost:8080/"
        },
        "id": "fY_XaooObNRe",
        "outputId": "3c48de34-ab9a-442a-ce32-473771632b04"
      },
      "outputs": [
        {
          "output_type": "stream",
          "name": "stdout",
          "text": [
            "2.3.0+cu121\n",
            "False\n"
          ]
        }
      ],
      "source": [
        "print(torch.__version__)\n",
        "print(torch.cuda.is_available())\n",
        "device = torch.device('cuda:0' if torch.cuda.is_available() else 'cpu')"
      ]
    },
    {
      "cell_type": "markdown",
      "metadata": {
        "id": "yKotwuNNC_N-"
      },
      "source": [
        "データセットのロードと前処理を実施"
      ]
    },
    {
      "cell_type": "code",
      "execution_count": 3,
      "metadata": {
        "colab": {
          "base_uri": "https://localhost:8080/"
        },
        "id": "i1_iK9DbPVWS",
        "outputId": "bdaeb010-8b84-46d0-adc9-12122b21dbd9"
      },
      "outputs": [
        {
          "output_type": "stream",
          "name": "stdout",
          "text": [
            "Downloading https://www.cs.toronto.edu/~kriz/cifar-10-python.tar.gz to ./data/cifar-10-python.tar.gz\n"
          ]
        },
        {
          "output_type": "stream",
          "name": "stderr",
          "text": [
            "100%|██████████| 170498071/170498071 [00:03<00:00, 51841452.05it/s]\n"
          ]
        },
        {
          "output_type": "stream",
          "name": "stdout",
          "text": [
            "Extracting ./data/cifar-10-python.tar.gz to ./data\n",
            "Files already downloaded and verified\n"
          ]
        }
      ],
      "source": [
        "transform = transforms.Compose(\n",
        "    [transforms.ToTensor(), transforms.Normalize((0.5, 0.5, 0.5), (0.5, 0.5, 0.5))]\n",
        ")\n",
        "\n",
        "batch_size = 4\n",
        "\n",
        "trainset = torchvision.datasets.CIFAR10(root='./data', train=True,\n",
        "                                        download=True, transform=transform)\n",
        "trainloader = torch.utils.data.DataLoader(trainset, batch_size=batch_size,\n",
        "                                          shuffle=True, num_workers=2)\n",
        "\n",
        "testset = torchvision.datasets.CIFAR10(root='./data', train=False,\n",
        "                                       download=True, transform=transform)\n",
        "testloader = torch.utils.data.DataLoader(testset, batch_size=batch_size,\n",
        "                                         shuffle=False, num_workers=2)\n"
      ]
    },
    {
      "cell_type": "markdown",
      "metadata": {
        "id": "G_QjcnV3DDQx"
      },
      "source": [
        "分類用のニューラルネットワークの設定"
      ]
    },
    {
      "cell_type": "code",
      "execution_count": 4,
      "metadata": {
        "id": "ORoICS6OPfCq"
      },
      "outputs": [],
      "source": [
        "class Net(nn.Module):\n",
        "    def __init__(self):\n",
        "        super().__init__()\n",
        "        self.conv1 = nn.Conv2d(3, 12, 3, padding=1)\n",
        "        self.fc1 = nn.Linear(12*32*32, 64)\n",
        "        self.fc2 = nn.Linear(64, 10)\n",
        "\n",
        "    def forward(self, x):\n",
        "        x =F.relu(self.conv1(x))\n",
        "        x = torch.flatten(x, 1) # flatten all dimensions except batch\n",
        "        x = F.relu(self.fc1(x))\n",
        "        x = self.fc2(x)\n",
        "        return x\n",
        "\n",
        "    def test(self, x):\n",
        "      return 0\n"
      ]
    },
    {
      "cell_type": "code",
      "source": [
        "def test(net, testloader):\n",
        "    net.eval()  # モデルを評価モードに切り替える\n",
        "    correct = 0\n",
        "    total = 0\n",
        "    with torch.no_grad():\n",
        "        for data in testloader:\n",
        "            images, labels = data\n",
        "            if torch.cuda.is_available():\n",
        "                images, labels = images.to(device), labels.to(device)\n",
        "            outputs = net(images)\n",
        "            _, predicted = torch.max(outputs.data, 1)\n",
        "            total += labels.size(0)\n",
        "            correct += (predicted == labels).sum().item()\n",
        "\n",
        "    accuracy = 100 * correct / total\n",
        "    print('Accuracy of the network on the 10000 test images: %d %%' % accuracy)\n",
        "    return accuracy"
      ],
      "metadata": {
        "id": "YrXRC55ivk0c"
      },
      "execution_count": 5,
      "outputs": []
    },
    {
      "cell_type": "markdown",
      "metadata": {
        "id": "vP1_7xLkDQZr"
      },
      "source": [
        "分類用ニューラルネットワークのインスタンス化と学習方法の設定"
      ]
    },
    {
      "cell_type": "code",
      "execution_count": 6,
      "metadata": {
        "id": "abzQ0jbTPjer"
      },
      "outputs": [],
      "source": [
        "net = Net()\n",
        "# transfer to gpu\n",
        "if torch.cuda.is_available():\n",
        "  net = net.to(device)\n",
        "criterion = nn.CrossEntropyLoss()\n",
        "optimizer = optim.SGD(net.parameters(), lr=0.001, momentum=0.9)"
      ]
    },
    {
      "cell_type": "markdown",
      "metadata": {
        "id": "Ver73uk_DftR"
      },
      "source": [
        "学習"
      ]
    },
    {
      "cell_type": "code",
      "execution_count": 7,
      "metadata": {
        "colab": {
          "base_uri": "https://localhost:8080/"
        },
        "id": "n-Q0OtogPk1W",
        "outputId": "a215a37f-3d64-4a23-d986-22917c7d06c3"
      },
      "outputs": [
        {
          "output_type": "stream",
          "name": "stdout",
          "text": [
            "[1,  2000] loss: 1.835\n",
            "[1,  4000] loss: 1.540\n",
            "[1,  6000] loss: 1.473\n",
            "[1,  8000] loss: 1.403\n",
            "[1, 10000] loss: 1.392\n",
            "[1, 12000] loss: 1.340\n",
            "Epoch 1\n",
            "Accuracy of the network on the 10000 test images: 52 %\n",
            "[2,  2000] loss: 1.256\n",
            "[2,  4000] loss: 1.238\n",
            "[2,  6000] loss: 1.247\n",
            "[2,  8000] loss: 1.212\n",
            "[2, 10000] loss: 1.230\n",
            "[2, 12000] loss: 1.234\n",
            "Epoch 2\n",
            "Accuracy of the network on the 10000 test images: 56 %\n",
            "[3,  2000] loss: 1.079\n",
            "[3,  4000] loss: 1.058\n",
            "[3,  6000] loss: 1.128\n",
            "[3,  8000] loss: 1.107\n",
            "[3, 10000] loss: 1.105\n",
            "[3, 12000] loss: 1.111\n",
            "Epoch 3\n",
            "Accuracy of the network on the 10000 test images: 55 %\n",
            "[4,  2000] loss: 0.937\n",
            "[4,  4000] loss: 0.944\n",
            "[4,  6000] loss: 0.997\n",
            "[4,  8000] loss: 0.988\n",
            "[4, 10000] loss: 0.992\n",
            "[4, 12000] loss: 0.999\n",
            "Epoch 4\n",
            "Accuracy of the network on the 10000 test images: 57 %\n",
            "[5,  2000] loss: 0.810\n",
            "[5,  4000] loss: 0.845\n",
            "[5,  6000] loss: 0.848\n",
            "[5,  8000] loss: 0.880\n",
            "[5, 10000] loss: 0.879\n",
            "[5, 12000] loss: 0.893\n",
            "Epoch 5\n",
            "Accuracy of the network on the 10000 test images: 57 %\n",
            "[6,  2000] loss: 0.674\n",
            "[6,  4000] loss: 0.719\n",
            "[6,  6000] loss: 0.736\n",
            "[6,  8000] loss: 0.741\n",
            "[6, 10000] loss: 0.767\n",
            "[6, 12000] loss: 0.805\n",
            "Epoch 6\n",
            "Accuracy of the network on the 10000 test images: 58 %\n",
            "[7,  2000] loss: 0.546\n",
            "[7,  4000] loss: 0.593\n",
            "[7,  6000] loss: 0.626\n",
            "[7,  8000] loss: 0.668\n",
            "[7, 10000] loss: 0.698\n",
            "[7, 12000] loss: 0.681\n",
            "Epoch 7\n",
            "Accuracy of the network on the 10000 test images: 58 %\n",
            "[8,  2000] loss: 0.475\n",
            "[8,  4000] loss: 0.512\n",
            "[8,  6000] loss: 0.497\n",
            "[8,  8000] loss: 0.546\n",
            "[8, 10000] loss: 0.574\n",
            "[8, 12000] loss: 0.598\n",
            "Epoch 8\n",
            "Accuracy of the network on the 10000 test images: 57 %\n",
            "[9,  2000] loss: 0.389\n",
            "[9,  4000] loss: 0.415\n",
            "[9,  6000] loss: 0.438\n",
            "[9,  8000] loss: 0.460\n",
            "[9, 10000] loss: 0.500\n",
            "[9, 12000] loss: 0.526\n",
            "Epoch 9\n",
            "Accuracy of the network on the 10000 test images: 56 %\n",
            "[10,  2000] loss: 0.315\n",
            "[10,  4000] loss: 0.346\n",
            "[10,  6000] loss: 0.372\n",
            "[10,  8000] loss: 0.383\n",
            "[10, 10000] loss: 0.424\n",
            "[10, 12000] loss: 0.425\n",
            "Epoch 10\n",
            "Accuracy of the network on the 10000 test images: 55 %\n",
            "Finished Training\n"
          ]
        }
      ],
      "source": [
        "import csv\n",
        "\n",
        "# CSVファイルの準備\n",
        "with open('training_results.csv', 'w', newline='') as csvfile:\n",
        "    fieldnames = ['epoch', 'batch', 'loss', 'accuracy']\n",
        "    writer = csv.DictWriter(csvfile, fieldnames=fieldnames)\n",
        "    writer.writeheader()\n",
        "\n",
        "    for epoch in range(10):  # loop over the dataset multiple times\n",
        "        net.train()  # 訓練モードに切り替える\n",
        "        running_loss = 0.0\n",
        "        for i, data in enumerate(trainloader, 0):\n",
        "            # get the inputs; data is a list of [inputs, labels]\n",
        "            inputs, labels = data\n",
        "            if torch.cuda.is_available():\n",
        "                inputs = inputs.to(device)\n",
        "                labels = labels.to(device)\n",
        "            optimizer.zero_grad()\n",
        "\n",
        "            # forward + backward + optimize\n",
        "            outputs = net(inputs)\n",
        "            loss = criterion(outputs, labels)\n",
        "            loss.backward()\n",
        "            optimizer.step()\n",
        "\n",
        "            # print statistics\n",
        "            running_loss += loss.item()\n",
        "            if i % 2000 == 1999:  # print every 2000 mini-batches\n",
        "                print('[%d, %5d] loss: %.3f' %\n",
        "                      (epoch + 1, i + 1, running_loss / 2000))\n",
        "                writer.writerow({'epoch': epoch + 1, 'batch': i + 1, 'loss': running_loss / 2000, 'accuracy': ''})\n",
        "                running_loss = 0.0\n",
        "\n",
        "        # 各エポックの最後に評価を行う\n",
        "        print(f'Epoch {epoch + 1}')\n",
        "        accuracy = test(net, testloader)\n",
        "\n",
        "        # エポックの結果をCSVに書き込む\n",
        "        writer.writerow({'epoch': epoch + 1, 'batch': '', 'loss': '', 'accuracy': accuracy})\n",
        "\n",
        "print('Finished Training')"
      ]
    },
    {
      "cell_type": "code",
      "source": [
        "import pandas as pd\n",
        "import matplotlib.pyplot as plt\n",
        "\n",
        "# CSVファイルからデータを読み込む\n",
        "data = pd.read_csv('/content/training_results.csv')\n",
        "\n",
        "# エポックごとの損失と精度のデータを取得\n",
        "train_loss = data[data['batch'].notna()]['loss'].values\n",
        "val_accuracy = data[data['batch'].isna()]['accuracy'].values\n",
        "epochs = data[data['batch'].isna()]['epoch'].values\n",
        "\n",
        "# プロット\n",
        "plt.figure(figsize=(12, 6))\n",
        "plt.plot(epochs, train_loss[:len(epochs)], label='Training Loss')\n",
        "plt.title('Training Loss')\n",
        "plt.xlabel('Epoch')\n",
        "plt.ylabel('Loss')\n",
        "plt.legend(loc='upper right')\n",
        "plt.grid(True)\n",
        "plt.show()\n",
        "\n",
        "plt.figure(figsize=(12, 6))\n",
        "plt.plot(epochs, val_accuracy, label='Validation Accuracy')\n",
        "plt.title('Validation Accuracy')\n",
        "plt.xlabel('Epoch')\n",
        "plt.ylabel('Accuracy')\n",
        "plt.legend(loc='lower right')\n",
        "plt.grid(True)\n",
        "plt.show()"
      ],
      "metadata": {
        "colab": {
          "base_uri": "https://localhost:8080/",
          "height": 1000
        },
        "id": "hrZWEVfZ2gEx",
        "outputId": "185e9f0d-e9aa-4b75-dce8-530b9c427d68"
      },
      "execution_count": 14,
      "outputs": [
        {
          "output_type": "display_data",
          "data": {
            "text/plain": [
              "<Figure size 1200x600 with 1 Axes>"
            ],
            "image/png": "[encoded data removed]"
          },
          "metadata": {}
        },
        {
          "output_type": "display_data",
          "data": {
            "text/plain": [
              "<Figure size 1200x600 with 1 Axes>"
            ],
            "image/png": "[encoded data removed]"
          },
          "metadata": {}
        }
      ]
    },
    {
      "cell_type": "code",
      "source": [
        "# クラス一覧を確認する\n",
        "print(trainset.classes)\n",
        "# ['airplane', 'automobile', 'bird', 'cat', 'deer', 'dog', 'frog', 'horse', 'ship', 'truck']\n",
        "\n",
        "# classesはよく利用するので別途保持しておく\n"
      ],
      "metadata": {
        "colab": {
          "base_uri": "https://localhost:8080/"
        },
        "id": "1SUMRUoC5lK2",
        "outputId": "59808c79-c144-4c1f-c871-a0e552b129bd"
      },
      "execution_count": 17,
      "outputs": [
        {
          "output_type": "stream",
          "name": "stdout",
          "text": [
            "['airplane', 'automobile', 'bird', 'cat', 'deer', 'dog', 'frog', 'horse', 'ship', 'truck']\n"
          ]
        }
      ]
    },
    {
      "cell_type": "code",
      "source": [
        "classes = trainset.classes\n",
        "\n",
        "class_correct = list(0. for i in range(10))\n",
        "class_total = list(0. for i in range(10))\n",
        "with torch.no_grad():\n",
        "    for data in testloader:\n",
        "        images, labels = data\n",
        "        outputs = net(images)\n",
        "        _, predicted = torch.max(outputs, 1)\n",
        "        c = (predicted == labels).squeeze()\n",
        "        for i in range(4):\n",
        "            label = labels[i]\n",
        "            class_correct[label] += c[i].item()\n",
        "            class_total[label] += 1\n",
        "for i in range(10):\n",
        "    print('Accuracy of %5s : %2d %%' % (classes[i], 100 * class_correct[i] / class_total[i]))\n",
        "\n"
      ],
      "metadata": {
        "colab": {
          "base_uri": "https://localhost:8080/"
        },
        "id": "eDhlXlcF5at4",
        "outputId": "5d36f3d3-7e53-41d3-c47d-56e335afe78c"
      },
      "execution_count": 19,
      "outputs": [
        {
          "output_type": "stream",
          "name": "stdout",
          "text": [
            "Accuracy of airplane : 68 %\n",
            "Accuracy of automobile : 67 %\n",
            "Accuracy of  bird : 49 %\n",
            "Accuracy of   cat : 35 %\n",
            "Accuracy of  deer : 41 %\n",
            "Accuracy of   dog : 42 %\n",
            "Accuracy of  frog : 64 %\n",
            "Accuracy of horse : 57 %\n",
            "Accuracy of  ship : 70 %\n",
            "Accuracy of truck : 60 %\n"
          ]
        }
      ]
    }
  ],
  "metadata": {
    "accelerator": "GPU",
    "colab": {
      "gpuType": "T4",
      "provenance": [],
      "include_colab_link": true
    },
    "kernelspec": {
      "display_name": "Python 3",
      "name": "python3"
    },
    "language_info": {
      "name": "python",
      "version": "3.12.3"
    }
  },
  "nbformat": 4,
  "nbformat_minor": 0
}