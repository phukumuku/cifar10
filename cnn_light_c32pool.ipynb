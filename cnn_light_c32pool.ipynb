{
  "cells": [
    {
      "cell_type": "markdown",
      "metadata": {
        "id": "view-in-github",
        "colab_type": "text"
      },
      "source": [
        "<a href=\"https://colab.research.google.com/github/phukumuku/cifar10/blob/test/cnn_light_c32pool.ipynb\" target=\"_parent\"><img src=\"https://colab.research.google.com/assets/colab-badge.svg\" alt=\"Open In Colab\"/></a>"
      ]
    },
    {
      "cell_type": "markdown",
      "metadata": {
        "id": "cvIb75QoCS3l"
      },
      "source": [
        "ツールのインポート"
      ]
    },
    {
      "cell_type": "code",
      "execution_count": 29,
      "metadata": {
        "id": "S5MjgvPRc11g"
      },
      "outputs": [],
      "source": [
        "import torch\n",
        "import torchvision\n",
        "import torchvision.transforms as transforms\n",
        "import torch.nn as nn\n",
        "import torch.nn.functional as F\n",
        "import torch.optim as optim"
      ]
    },
    {
      "cell_type": "markdown",
      "metadata": {
        "id": "11jMqoxuCZau"
      },
      "source": [
        "ツール（pytorch）のバージョンやGPUの設定確認\n",
        "- ランタイム -> ランタイムのタイプを変更 -> T4が選択されていればTrueと表示されるはず"
      ]
    },
    {
      "cell_type": "code",
      "execution_count": 30,
      "metadata": {
        "colab": {
          "base_uri": "https://localhost:8080/"
        },
        "id": "fY_XaooObNRe",
        "outputId": "70cb2bb5-0785-44d3-ecd6-baf8b41a88bf"
      },
      "outputs": [
        {
          "output_type": "stream",
          "name": "stdout",
          "text": [
            "2.3.0+cu121\n",
            "False\n"
          ]
        }
      ],
      "source": [
        "print(torch.__version__)\n",
        "print(torch.cuda.is_available())\n",
        "device = torch.device('cuda:0' if torch.cuda.is_available() else 'cpu')"
      ]
    },
    {
      "cell_type": "markdown",
      "metadata": {
        "id": "yKotwuNNC_N-"
      },
      "source": [
        "データセットのロードと前処理を実施"
      ]
    },
    {
      "cell_type": "code",
      "execution_count": 31,
      "metadata": {
        "colab": {
          "base_uri": "https://localhost:8080/"
        },
        "id": "i1_iK9DbPVWS",
        "outputId": "2e25e555-1225-4106-9b1a-8696809d146c"
      },
      "outputs": [
        {
          "output_type": "stream",
          "name": "stdout",
          "text": [
            "Files already downloaded and verified\n",
            "Files already downloaded and verified\n"
          ]
        }
      ],
      "source": [
        "transform = transforms.Compose(\n",
        "    [transforms.ToTensor(), transforms.Normalize((0.5, 0.5, 0.5), (0.5, 0.5, 0.5))]\n",
        ")\n",
        "\n",
        "batch_size = 4\n",
        "\n",
        "trainset = torchvision.datasets.CIFAR10(root='./data', train=True,\n",
        "                                        download=True, transform=transform)\n",
        "trainloader = torch.utils.data.DataLoader(trainset, batch_size=batch_size,\n",
        "                                          shuffle=True, num_workers=2)\n",
        "\n",
        "testset = torchvision.datasets.CIFAR10(root='./data', train=False,\n",
        "                                       download=True, transform=transform)\n",
        "testloader = torch.utils.data.DataLoader(testset, batch_size=batch_size,\n",
        "                                         shuffle=False, num_workers=2)\n",
        "\n",
        "classes = trainset.classes"
      ]
    },
    {
      "cell_type": "markdown",
      "metadata": {
        "id": "G_QjcnV3DDQx"
      },
      "source": [
        "分類用のニューラルネットワークの設定"
      ]
    },
    {
      "cell_type": "code",
      "execution_count": 32,
      "metadata": {
        "id": "ORoICS6OPfCq"
      },
      "outputs": [],
      "source": [
        "class Net(nn.Module):\n",
        "    def __init__(self):\n",
        "        super().__init__()\n",
        "        self.conv1 = nn.Conv2d(3, 32, 3, padding=1)\n",
        "        self.pool = nn.MaxPool2d(2, 2)\n",
        "        self.fc1 = nn.Linear(32*16*16, 64)\n",
        "        self.fc2 = nn.Linear(64, 10)\n",
        "\n",
        "    def forward(self, x):\n",
        "        x = self.pool(F.relu(self.conv1(x)))\n",
        "        x = torch.flatten(x, 1) # flatten all dimensions except batch\n",
        "        x = F.relu(self.fc1(x))\n",
        "        x = self.fc2(x)\n",
        "        return x\n",
        "\n",
        "    def test(self, x):\n",
        "      return 0\n"
      ]
    },
    {
      "cell_type": "code",
      "execution_count": 33,
      "metadata": {
        "id": "YrXRC55ivk0c"
      },
      "outputs": [],
      "source": [
        "def test(net, testloader):\n",
        "    net.eval()  # モデルを評価モードに切り替える\n",
        "    correct = 0\n",
        "    total = 0\n",
        "    with torch.no_grad():\n",
        "        for data in testloader:\n",
        "            images, labels = data\n",
        "            if torch.cuda.is_available():\n",
        "                images, labels = images.to(device), labels.to(device)\n",
        "            outputs = net(images)\n",
        "            _, predicted = torch.max(outputs.data, 1)\n",
        "            total += labels.size(0)\n",
        "            correct += (predicted == labels).sum().item()\n",
        "\n",
        "    accuracy = 100 * correct / total\n",
        "    print('Accuracy of the network on the 10000 test images: %d %%' % accuracy)\n",
        "    return accuracy"
      ]
    },
    {
      "cell_type": "markdown",
      "metadata": {
        "id": "vP1_7xLkDQZr"
      },
      "source": [
        "分類用ニューラルネットワークのインスタンス化と学習方法の設定"
      ]
    },
    {
      "cell_type": "code",
      "execution_count": 34,
      "metadata": {
        "id": "abzQ0jbTPjer"
      },
      "outputs": [],
      "source": [
        "net = Net()\n",
        "# transfer to gpu\n",
        "if torch.cuda.is_available():\n",
        "  net = net.to(device)\n",
        "criterion = nn.CrossEntropyLoss()\n",
        "optimizer = optim.SGD(net.parameters(), lr=0.001, momentum=0.9)"
      ]
    },
    {
      "cell_type": "markdown",
      "metadata": {
        "id": "Ver73uk_DftR"
      },
      "source": [
        "学習"
      ]
    },
    {
      "cell_type": "code",
      "execution_count": 35,
      "metadata": {
        "id": "2o1Cxf26Nfef",
        "colab": {
          "base_uri": "https://localhost:8080/"
        },
        "outputId": "46dad316-f200-48bf-9330-610896062a30"
      },
      "outputs": [
        {
          "name": "stdout",
          "output_type": "stream",
          "text": [
            "c32_pool\n"
          ]
        }
      ],
      "source": [
        "csvname = input()+'.csv'"
      ]
    },
    {
      "cell_type": "code",
      "execution_count": 36,
      "metadata": {
        "id": "n-Q0OtogPk1W",
        "colab": {
          "base_uri": "https://localhost:8080/"
        },
        "outputId": "458ba9c6-7769-4457-f5e4-4965ad213a2e"
      },
      "outputs": [
        {
          "metadata": {
            "tags": null
          },
          "name": "stdout",
          "output_type": "stream",
          "text": [
            "[1,  2000] loss: 1.851\n",
            "[1,  4000] loss: 1.504\n",
            "[1,  6000] loss: 1.412\n",
            "[1,  8000] loss: 1.325\n",
            "[1, 10000] loss: 1.300\n",
            "[1, 12000] loss: 1.268\n",
            "Epoch 1\n",
            "Accuracy of the network on the 10000 test images: 53 %\n",
            "[2,  2000] loss: 1.165\n",
            "[2,  4000] loss: 1.131\n",
            "[2,  6000] loss: 1.134\n",
            "[2,  8000] loss: 1.095\n",
            "[2, 10000] loss: 1.083\n",
            "[2, 12000] loss: 1.079\n",
            "Epoch 2\n",
            "Accuracy of the network on the 10000 test images: 62 %\n",
            "[3,  2000] loss: 0.958\n",
            "[3,  4000] loss: 0.964\n",
            "[3,  6000] loss: 0.972\n",
            "[3,  8000] loss: 0.966\n",
            "[3, 10000] loss: 0.967\n",
            "[3, 12000] loss: 0.959\n",
            "Epoch 3\n",
            "Accuracy of the network on the 10000 test images: 62 %\n",
            "[4,  2000] loss: 0.848\n",
            "[4,  4000] loss: 0.865\n",
            "[4,  6000] loss: 0.855\n",
            "[4,  8000] loss: 0.874\n",
            "[4, 10000] loss: 0.882\n",
            "[4, 12000] loss: 0.875\n",
            "Epoch 4\n",
            "Accuracy of the network on the 10000 test images: 64 %\n",
            "[5,  2000] loss: 0.731\n",
            "[5,  4000] loss: 0.752\n",
            "[5,  6000] loss: 0.773\n",
            "[5,  8000] loss: 0.795\n",
            "[5, 10000] loss: 0.790\n",
            "[5, 12000] loss: 0.791\n",
            "Epoch 5\n",
            "Accuracy of the network on the 10000 test images: 64 %\n",
            "Finished Training\n"
          ]
        }
      ],
      "source": [
        "import csv\n",
        "\n",
        "# CSVファイルの準備\n",
        "with open(csvname, 'w', newline='') as csvfile:\n",
        "    fieldnames = ['epoch', 'batch', 'loss', 'accuracy']\n",
        "    writer = csv.DictWriter(csvfile, fieldnames=fieldnames)\n",
        "    writer.writeheader()\n",
        "\n",
        "    for epoch in range(5):  # loop over the dataset multiple times\n",
        "        net.train()  # 訓練モードに切り替える\n",
        "        running_loss = 0.0\n",
        "        for i, data in enumerate(trainloader, 0):\n",
        "            # get the inputs; data is a list of [inputs, labels]\n",
        "            inputs, labels = data\n",
        "            if torch.cuda.is_available():\n",
        "                inputs = inputs.to(device)\n",
        "                labels = labels.to(device)\n",
        "            optimizer.zero_grad()\n",
        "\n",
        "            # forward + backward + optimize\n",
        "            outputs = net(inputs)\n",
        "            loss = criterion(outputs, labels)\n",
        "            loss.backward()\n",
        "            optimizer.step()\n",
        "\n",
        "            # print statistics\n",
        "            running_loss += loss.item()\n",
        "            if i % 2000 == 1999:  # print every 2000 mini-batches\n",
        "                print('[%d, %5d] loss: %.3f' %\n",
        "                      (epoch + 1, i + 1, running_loss / 2000))\n",
        "                writer.writerow({'epoch': epoch + 1, 'batch': i + 1, 'loss': running_loss / 2000, 'accuracy': ''})\n",
        "                running_loss = 0.0\n",
        "\n",
        "        # 各エポックの最後に評価を行う\n",
        "        print(f'Epoch {epoch + 1}')\n",
        "        accuracy = test(net, testloader)\n",
        "\n",
        "        # エポックの結果をCSVに書き込む\n",
        "        writer.writerow({'epoch': epoch + 1, 'batch': '', 'loss': '', 'accuracy': accuracy})\n",
        "\n",
        "print('Finished Training')"
      ]
    },
    {
      "cell_type": "code",
      "execution_count": 37,
      "metadata": {
        "id": "DWmqtenINKVI",
        "colab": {
          "base_uri": "https://localhost:8080/"
        },
        "outputId": "e1e7720b-69fd-4a07-8eff-f492df0ecff0"
      },
      "outputs": [
        {
          "output_type": "stream",
          "name": "stdout",
          "text": [
            "Accuracy of airplane : 74 %\n",
            "Accuracy of automobile : 76 %\n",
            "Accuracy of  bird : 50 %\n",
            "Accuracy of   cat : 39 %\n",
            "Accuracy of  deer : 51 %\n",
            "Accuracy of   dog : 59 %\n",
            "Accuracy of  frog : 70 %\n",
            "Accuracy of horse : 71 %\n",
            "Accuracy of  ship : 75 %\n",
            "Accuracy of truck : 74 %\n"
          ]
        }
      ],
      "source": [
        "# クラスごとの精度を計算\n",
        "class_correct = list(0. for i in range(10))\n",
        "class_total = list(0. for i in range(10))\n",
        "with torch.no_grad():\n",
        "    for data in testloader:\n",
        "        images, labels = data\n",
        "        if torch.cuda.is_available():\n",
        "            images, labels = images.to(device), labels.to(device)\n",
        "        outputs = net(images)\n",
        "        _, predicted = torch.max(outputs, 1)\n",
        "        c = (predicted == labels).squeeze()\n",
        "        for i in range(batch_size):\n",
        "            label = labels[i]\n",
        "            class_correct[label] += c[i].item()\n",
        "            class_total[label] += 1\n",
        "for i in range(10):\n",
        "    print('Accuracy of %5s : %2d %%' % (classes[i], 100 * class_correct[i] / class_total[i]))"
      ]
    },
    {
      "cell_type": "code",
      "execution_count": 38,
      "metadata": {
        "id": "Kpm4Thjm4eXJ",
        "colab": {
          "base_uri": "https://localhost:8080/",
          "height": 1000
        },
        "outputId": "2599d406-8641-46e9-d31c-e9e71535b4be"
      },
      "outputs": [
        {
          "output_type": "display_data",
          "data": {
            "text/plain": [
              "<Figure size 1200x600 with 1 Axes>"
            ],
            "image/png": "[encoded data removed]"
          },
          "metadata": {}
        },
        {
          "output_type": "display_data",
          "data": {
            "text/plain": [
              "<Figure size 1200x600 with 1 Axes>"
            ],
            "image/png": "[encoded data removed]"
          },
          "metadata": {}
        }
      ],
      "source": [
        "import pandas as pd\n",
        "import matplotlib.pyplot as plt\n",
        "\n",
        "# CSVファイルからデータを読み込む\n",
        "data = pd.read_csv(f'/content/{csvname}')\n",
        "\n",
        "# エポックごとの損失と精度のデータを取得\n",
        "train_loss = data[data['batch'].notna()]['loss'].values\n",
        "val_accuracy = data[data['batch'].isna()]['accuracy'].values\n",
        "epochs = data[data['batch'].isna()]['epoch'].values\n",
        "\n",
        "# プロット\n",
        "plt.figure(figsize=(12, 6))\n",
        "plt.plot(epochs, train_loss[:len(epochs)], label='Training Loss')\n",
        "plt.title('Training Loss')\n",
        "plt.xlabel('Epoch')\n",
        "plt.ylabel('Loss')\n",
        "plt.legend(loc='upper right')\n",
        "plt.grid(True)\n",
        "plt.show()\n",
        "\n",
        "plt.figure(figsize=(12, 6))\n",
        "plt.plot(epochs, val_accuracy, label='Validation Accuracy')\n",
        "plt.title('Validation Accuracy')\n",
        "plt.xlabel('Epoch')\n",
        "plt.ylabel('Accuracy')\n",
        "plt.legend(loc='lower right')\n",
        "plt.grid(True)\n",
        "plt.show()"
      ]
    },
    {
      "cell_type": "code",
      "execution_count": 39,
      "metadata": {
        "id": "lUEshLFvOEdK",
        "colab": {
          "base_uri": "https://localhost:8080/",
          "height": 17
        },
        "outputId": "e45cec7a-5514-447c-8b1d-63d10cad38f6"
      },
      "outputs": [
        {
          "output_type": "display_data",
          "data": {
            "text/plain": [
              "<IPython.core.display.Javascript object>"
            ],
            "application/javascript": [
              "\n",
              "    async function download(id, filename, size) {\n",
              "      if (!google.colab.kernel.accessAllowed) {\n",
              "        return;\n",
              "      }\n",
              "      const div = document.createElement('div');\n",
              "      const label = document.createElement('label');\n",
              "      label.textContent = `Downloading \"${filename}\": `;\n",
              "      div.appendChild(label);\n",
              "      const progress = document.createElement('progress');\n",
              "      progress.max = size;\n",
              "      div.appendChild(progress);\n",
              "      document.body.appendChild(div);\n",
              "\n",
              "      const buffers = [];\n",
              "      let downloaded = 0;\n",
              "\n",
              "      const channel = await google.colab.kernel.comms.open(id);\n",
              "      // Send a message to notify the kernel that we're ready.\n",
              "      channel.send({})\n",
              "\n",
              "      for await (const message of channel.messages) {\n",
              "        // Send a message to notify the kernel that we're ready.\n",
              "        channel.send({})\n",
              "        if (message.buffers) {\n",
              "          for (const buffer of message.buffers) {\n",
              "            buffers.push(buffer);\n",
              "            downloaded += buffer.byteLength;\n",
              "            progress.value = downloaded;\n",
              "          }\n",
              "        }\n",
              "      }\n",
              "      const blob = new Blob(buffers, {type: 'application/binary'});\n",
              "      const a = document.createElement('a');\n",
              "      a.href = window.URL.createObjectURL(blob);\n",
              "      a.download = filename;\n",
              "      div.appendChild(a);\n",
              "      a.click();\n",
              "      div.remove();\n",
              "    }\n",
              "  "
            ]
          },
          "metadata": {}
        },
        {
          "output_type": "display_data",
          "data": {
            "text/plain": [
              "<IPython.core.display.Javascript object>"
            ],
            "application/javascript": [
              "download(\"download_97331b83-39f6-4622-a390-a799f1ee5a0c\", \"c32_pool.csv\", 926)"
            ]
          },
          "metadata": {}
        }
      ],
      "source": [
        "from google.colab import files\n",
        "\n",
        "filename = f'/content/{csvname}'\n",
        "files.download(filename)"
      ]
    }
  ],
  "metadata": {
    "accelerator": "GPU",
    "colab": {
      "gpuType": "T4",
      "provenance": [],
      "include_colab_link": true
    },
    "kernelspec": {
      "display_name": "Python 3",
      "name": "python3"
    },
    "language_info": {
      "name": "python",
      "version": "3.12.3"
    }
  },
  "nbformat": 4,
  "nbformat_minor": 0
}