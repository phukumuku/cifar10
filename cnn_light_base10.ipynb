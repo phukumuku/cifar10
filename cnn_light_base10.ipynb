{
  "cells": [
    {
      "cell_type": "markdown",
      "metadata": {
        "id": "view-in-github",
        "colab_type": "text"
      },
      "source": [
        "<a href=\"https://colab.research.google.com/github/phukumuku/cifar10/blob/test/cnn_light_base10.ipynb\" target=\"_parent\"><img src=\"https://colab.research.google.com/assets/colab-badge.svg\" alt=\"Open In Colab\"/></a>"
      ]
    },
    {
      "cell_type": "code",
      "source": [
        "csvname = input()+'.csv'"
      ],
      "metadata": {
        "id": "v0zWLt1ITzpN",
        "colab": {
          "base_uri": "https://localhost:8080/"
        },
        "outputId": "895817e1-aa97-48f1-b6de-278e1bea0a6a"
      },
      "execution_count": 1,
      "outputs": [
        {
          "name": "stdout",
          "output_type": "stream",
          "text": [
            "base10\n"
          ]
        }
      ]
    },
    {
      "cell_type": "markdown",
      "metadata": {
        "id": "cvIb75QoCS3l"
      },
      "source": [
        "ツールのインポート"
      ]
    },
    {
      "cell_type": "code",
      "execution_count": 2,
      "metadata": {
        "id": "S5MjgvPRc11g"
      },
      "outputs": [],
      "source": [
        "import torch\n",
        "import torchvision\n",
        "import torchvision.transforms as transforms\n",
        "import torch.nn as nn\n",
        "import torch.nn.functional as F\n",
        "import torch.optim as optim"
      ]
    },
    {
      "cell_type": "markdown",
      "metadata": {
        "id": "11jMqoxuCZau"
      },
      "source": [
        "ツール（pytorch）のバージョンやGPUの設定確認\n",
        "- ランタイム -> ランタイムのタイプを変更 -> T4が選択されていればTrueと表示されるはず"
      ]
    },
    {
      "cell_type": "code",
      "execution_count": 3,
      "metadata": {
        "colab": {
          "base_uri": "https://localhost:8080/"
        },
        "id": "fY_XaooObNRe",
        "outputId": "52d6eef6-2b7b-42e2-c1f9-43a72851174e"
      },
      "outputs": [
        {
          "output_type": "stream",
          "name": "stdout",
          "text": [
            "2.3.0+cu121\n",
            "False\n"
          ]
        }
      ],
      "source": [
        "print(torch.__version__)\n",
        "print(torch.cuda.is_available())\n",
        "device = torch.device('cuda:0' if torch.cuda.is_available() else 'cpu')"
      ]
    },
    {
      "cell_type": "markdown",
      "metadata": {
        "id": "yKotwuNNC_N-"
      },
      "source": [
        "データセットのロードと前処理を実施"
      ]
    },
    {
      "cell_type": "code",
      "execution_count": 4,
      "metadata": {
        "colab": {
          "base_uri": "https://localhost:8080/"
        },
        "id": "i1_iK9DbPVWS",
        "outputId": "49f46a11-1c09-4d45-e9a8-a2ccfa4b9825"
      },
      "outputs": [
        {
          "output_type": "stream",
          "name": "stdout",
          "text": [
            "Downloading https://www.cs.toronto.edu/~kriz/cifar-10-python.tar.gz to ./data/cifar-10-python.tar.gz\n"
          ]
        },
        {
          "output_type": "stream",
          "name": "stderr",
          "text": [
            "100%|██████████| 170498071/170498071 [00:03<00:00, 46634024.96it/s]\n"
          ]
        },
        {
          "output_type": "stream",
          "name": "stdout",
          "text": [
            "Extracting ./data/cifar-10-python.tar.gz to ./data\n",
            "Files already downloaded and verified\n"
          ]
        }
      ],
      "source": [
        "transform = transforms.Compose(\n",
        "    [transforms.ToTensor(), transforms.Normalize((0.5, 0.5, 0.5), (0.5, 0.5, 0.5))]\n",
        ")\n",
        "\n",
        "batch_size = 4\n",
        "\n",
        "trainset = torchvision.datasets.CIFAR10(root='./data', train=True,\n",
        "                                        download=True, transform=transform)\n",
        "trainloader = torch.utils.data.DataLoader(trainset, batch_size=batch_size,\n",
        "                                          shuffle=True, num_workers=2)\n",
        "\n",
        "testset = torchvision.datasets.CIFAR10(root='./data', train=False,\n",
        "                                       download=True, transform=transform)\n",
        "testloader = torch.utils.data.DataLoader(testset, batch_size=batch_size,\n",
        "                                         shuffle=False, num_workers=2)\n",
        "\n",
        "classes = trainset.classes"
      ]
    },
    {
      "cell_type": "markdown",
      "metadata": {
        "id": "G_QjcnV3DDQx"
      },
      "source": [
        "分類用のニューラルネットワークの設定"
      ]
    },
    {
      "cell_type": "code",
      "execution_count": 5,
      "metadata": {
        "id": "ORoICS6OPfCq"
      },
      "outputs": [],
      "source": [
        "class Net(nn.Module):\n",
        "    def __init__(self):\n",
        "        super().__init__()\n",
        "        self.conv1 = nn.Conv2d(3, 6, 3, padding=1)\n",
        "        self.fc1 = nn.Linear(6*32*32, 64)\n",
        "        self.fc2 = nn.Linear(64, 10)\n",
        "\n",
        "    def forward(self, x):\n",
        "        x =F.relu(self.conv1(x))\n",
        "        x = torch.flatten(x, 1) # flatten all dimensions except batch\n",
        "        x = F.relu(self.fc1(x))\n",
        "        x = self.fc2(x)\n",
        "        return x\n",
        "\n",
        "    def test(self, x):\n",
        "      return 0\n"
      ]
    },
    {
      "cell_type": "code",
      "execution_count": 6,
      "metadata": {
        "id": "YrXRC55ivk0c"
      },
      "outputs": [],
      "source": [
        "def test(net, testloader):\n",
        "    net.eval()  # モデルを評価モードに切り替える\n",
        "    correct = 0\n",
        "    total = 0\n",
        "    with torch.no_grad():\n",
        "        for data in testloader:\n",
        "            images, labels = data\n",
        "            if torch.cuda.is_available():\n",
        "                images, labels = images.to(device), labels.to(device)\n",
        "            outputs = net(images)\n",
        "            _, predicted = torch.max(outputs.data, 1)\n",
        "            total += labels.size(0)\n",
        "            correct += (predicted == labels).sum().item()\n",
        "\n",
        "    accuracy = 100 * correct / total\n",
        "    print('Accuracy of the network on the 10000 test images: %d %%' % accuracy)\n",
        "    return accuracy"
      ]
    },
    {
      "cell_type": "markdown",
      "metadata": {
        "id": "vP1_7xLkDQZr"
      },
      "source": [
        "分類用ニューラルネットワークのインスタンス化と学習方法の設定"
      ]
    },
    {
      "cell_type": "code",
      "execution_count": 7,
      "metadata": {
        "id": "abzQ0jbTPjer"
      },
      "outputs": [],
      "source": [
        "net = Net()\n",
        "# transfer to gpu\n",
        "if torch.cuda.is_available():\n",
        "  net = net.to(device)\n",
        "criterion = nn.CrossEntropyLoss()\n",
        "optimizer = optim.SGD(net.parameters(), lr=0.001, momentum=0.9)"
      ]
    },
    {
      "cell_type": "markdown",
      "metadata": {
        "id": "Ver73uk_DftR"
      },
      "source": [
        "学習"
      ]
    },
    {
      "cell_type": "code",
      "execution_count": 8,
      "metadata": {
        "colab": {
          "base_uri": "https://localhost:8080/"
        },
        "id": "n-Q0OtogPk1W",
        "outputId": "bba67d25-5bb5-413b-eeea-12a1874c0706"
      },
      "outputs": [
        {
          "output_type": "stream",
          "name": "stdout",
          "text": [
            "[1,  2000] loss: 1.905\n",
            "[1,  4000] loss: 1.663\n",
            "[1,  6000] loss: 1.566\n",
            "[1,  8000] loss: 1.507\n",
            "[1, 10000] loss: 1.462\n",
            "[1, 12000] loss: 1.432\n",
            "Epoch 1\n",
            "Accuracy of the network on the 10000 test images: 50 %\n",
            "[2,  2000] loss: 1.344\n",
            "[2,  4000] loss: 1.359\n",
            "[2,  6000] loss: 1.345\n",
            "[2,  8000] loss: 1.348\n",
            "[2, 10000] loss: 1.339\n",
            "[2, 12000] loss: 1.318\n",
            "Epoch 2\n",
            "Accuracy of the network on the 10000 test images: 52 %\n",
            "[3,  2000] loss: 1.211\n",
            "[3,  4000] loss: 1.245\n",
            "[3,  6000] loss: 1.226\n",
            "[3,  8000] loss: 1.241\n",
            "[3, 10000] loss: 1.249\n",
            "[3, 12000] loss: 1.246\n",
            "Epoch 3\n",
            "Accuracy of the network on the 10000 test images: 51 %\n",
            "[4,  2000] loss: 1.133\n",
            "[4,  4000] loss: 1.139\n",
            "[4,  6000] loss: 1.157\n",
            "[4,  8000] loss: 1.161\n",
            "[4, 10000] loss: 1.178\n",
            "[4, 12000] loss: 1.179\n",
            "Epoch 4\n",
            "Accuracy of the network on the 10000 test images: 52 %\n",
            "[5,  2000] loss: 1.040\n",
            "[5,  4000] loss: 1.082\n",
            "[5,  6000] loss: 1.056\n",
            "[5,  8000] loss: 1.089\n",
            "[5, 10000] loss: 1.119\n",
            "[5, 12000] loss: 1.123\n",
            "Epoch 5\n",
            "Accuracy of the network on the 10000 test images: 53 %\n",
            "[6,  2000] loss: 0.963\n",
            "[6,  4000] loss: 0.987\n",
            "[6,  6000] loss: 1.016\n",
            "[6,  8000] loss: 1.012\n",
            "[6, 10000] loss: 1.028\n",
            "[6, 12000] loss: 1.040\n",
            "Epoch 6\n",
            "Accuracy of the network on the 10000 test images: 53 %\n",
            "[7,  2000] loss: 0.869\n",
            "[7,  4000] loss: 0.910\n",
            "[7,  6000] loss: 0.931\n",
            "[7,  8000] loss: 0.966\n",
            "[7, 10000] loss: 0.962\n",
            "[7, 12000] loss: 0.954\n",
            "Epoch 7\n",
            "Accuracy of the network on the 10000 test images: 50 %\n",
            "[8,  2000] loss: 0.802\n",
            "[8,  4000] loss: 0.839\n",
            "[8,  6000] loss: 0.880\n",
            "[8,  8000] loss: 0.902\n",
            "[8, 10000] loss: 0.899\n",
            "[8, 12000] loss: 0.896\n",
            "Epoch 8\n",
            "Accuracy of the network on the 10000 test images: 52 %\n",
            "[9,  2000] loss: 0.729\n",
            "[9,  4000] loss: 0.747\n",
            "[9,  6000] loss: 0.783\n",
            "[9,  8000] loss: 0.792\n",
            "[9, 10000] loss: 0.827\n",
            "[9, 12000] loss: 0.863\n",
            "Epoch 9\n",
            "Accuracy of the network on the 10000 test images: 52 %\n",
            "[10,  2000] loss: 0.654\n",
            "[10,  4000] loss: 0.704\n",
            "[10,  6000] loss: 0.697\n",
            "[10,  8000] loss: 0.727\n",
            "[10, 10000] loss: 0.777\n",
            "[10, 12000] loss: 0.797\n",
            "Epoch 10\n",
            "Accuracy of the network on the 10000 test images: 51 %\n",
            "Finished Training\n"
          ]
        }
      ],
      "source": [
        "import csv\n",
        "\n",
        "# CSVファイルの準備\n",
        "with open(csvname, 'w', newline='') as csvfile:\n",
        "    fieldnames = ['epoch', 'batch', 'loss', 'accuracy']\n",
        "    writer = csv.DictWriter(csvfile, fieldnames=fieldnames)\n",
        "    writer.writeheader()\n",
        "\n",
        "    for epoch in range(10):  # loop over the dataset multiple times\n",
        "        net.train()  # 訓練モードに切り替える\n",
        "        running_loss = 0.0\n",
        "        for i, data in enumerate(trainloader, 0):\n",
        "            # get the inputs; data is a list of [inputs, labels]\n",
        "            inputs, labels = data\n",
        "            if torch.cuda.is_available():\n",
        "                inputs = inputs.to(device)\n",
        "                labels = labels.to(device)\n",
        "            optimizer.zero_grad()\n",
        "\n",
        "            # forward + backward + optimize\n",
        "            outputs = net(inputs)\n",
        "            loss = criterion(outputs, labels)\n",
        "            loss.backward()\n",
        "            optimizer.step()\n",
        "\n",
        "            # print statistics\n",
        "            running_loss += loss.item()\n",
        "            if i % 2000 == 1999:  # print every 2000 mini-batches\n",
        "                print('[%d, %5d] loss: %.3f' %\n",
        "                      (epoch + 1, i + 1, running_loss / 2000))\n",
        "                writer.writerow({'epoch': epoch + 1, 'batch': i + 1, 'loss': running_loss / 2000, 'accuracy': ''})\n",
        "                running_loss = 0.0\n",
        "\n",
        "        # 各エポックの最後に評価を行う\n",
        "        print(f'Epoch {epoch + 1}')\n",
        "        accuracy = test(net, testloader)\n",
        "\n",
        "        # エポックの結果をCSVに書き込む\n",
        "        writer.writerow({'epoch': epoch + 1, 'batch': '', 'loss': '', 'accuracy': accuracy})\n",
        "\n",
        "print('Finished Training')"
      ]
    },
    {
      "cell_type": "code",
      "execution_count": 9,
      "metadata": {
        "colab": {
          "base_uri": "https://localhost:8080/"
        },
        "id": "DWmqtenINKVI",
        "outputId": "a1efbf61-35ea-4718-e9d4-5bff9db3b98a"
      },
      "outputs": [
        {
          "output_type": "stream",
          "name": "stdout",
          "text": [
            "Accuracy of airplane : 61 %\n",
            "Accuracy of automobile : 63 %\n",
            "Accuracy of  bird : 35 %\n",
            "Accuracy of   cat : 46 %\n",
            "Accuracy of  deer : 48 %\n",
            "Accuracy of   dog : 40 %\n",
            "Accuracy of  frog : 53 %\n",
            "Accuracy of horse : 55 %\n",
            "Accuracy of  ship : 56 %\n",
            "Accuracy of truck : 56 %\n"
          ]
        }
      ],
      "source": [
        "# クラスごとの精度を計算\n",
        "class_correct = list(0. for i in range(10))\n",
        "class_total = list(0. for i in range(10))\n",
        "with torch.no_grad():\n",
        "    for data in testloader:\n",
        "        images, labels = data\n",
        "        if torch.cuda.is_available():\n",
        "            images, labels = images.to(device), labels.to(device)\n",
        "        outputs = net(images)\n",
        "        _, predicted = torch.max(outputs, 1)\n",
        "        c = (predicted == labels).squeeze()\n",
        "        for i in range(batch_size):\n",
        "            label = labels[i]\n",
        "            class_correct[label] += c[i].item()\n",
        "            class_total[label] += 1\n",
        "for i in range(10):\n",
        "    print('Accuracy of %5s : %2d %%' % (classes[i], 100 * class_correct[i] / class_total[i]))"
      ]
    },
    {
      "cell_type": "code",
      "source": [
        "print(f'/content/{csvname}')"
      ],
      "metadata": {
        "colab": {
          "base_uri": "https://localhost:8080/"
        },
        "id": "8cdFYv5QPhEj",
        "outputId": "929973a5-09a2-4a42-b0d3-7c56ff8db045"
      },
      "execution_count": 10,
      "outputs": [
        {
          "output_type": "stream",
          "name": "stdout",
          "text": [
            "/content/base10.csv\n"
          ]
        }
      ]
    },
    {
      "cell_type": "code",
      "execution_count": 11,
      "metadata": {
        "colab": {
          "base_uri": "https://localhost:8080/",
          "height": 649
        },
        "id": "Kpm4Thjm4eXJ",
        "outputId": "0e4af491-5986-4f60-d016-456ffb5dc167"
      },
      "outputs": [
        {
          "output_type": "display_data",
          "data": {
            "text/plain": [
              "<Figure size 600x300 with 1 Axes>"
            ],
            "image/png": "[encoded data removed]"
          },
          "metadata": {}
        },
        {
          "output_type": "display_data",
          "data": {
            "text/plain": [
              "<Figure size 600x300 with 1 Axes>"
            ],
            "image/png": "[encoded data removed]"
          },
          "metadata": {}
        }
      ],
      "source": [
        "import pandas as pd\n",
        "import matplotlib.pyplot as plt\n",
        "\n",
        "# CSVファイルからデータを読み込む\n",
        "data = pd.read_csv(f'/content/{csvname}')\n",
        "\n",
        "# エポックごとの損失と精度のデータを取得\n",
        "train_loss = data[data['batch'].notna()]['loss'].values\n",
        "val_accuracy = data[data['batch'].isna()]['accuracy'].values\n",
        "epochs = data[data['batch'].isna()]['epoch'].values\n",
        "\n",
        "# プロット\n",
        "plt.figure(figsize=(6, 3))\n",
        "plt.plot(epochs, train_loss[:len(epochs)], label='Training Loss')\n",
        "plt.title('Training Loss')\n",
        "plt.xlabel('Epoch')\n",
        "plt.ylabel('Loss')\n",
        "plt.legend(loc='upper right')\n",
        "plt.grid(True)\n",
        "plt.show()\n",
        "\n",
        "plt.figure(figsize=(6, 3))\n",
        "plt.plot(epochs, val_accuracy, label='Validation Accuracy')\n",
        "plt.title('Validation Accuracy')\n",
        "plt.xlabel('Epoch')\n",
        "plt.ylabel('Accuracy')\n",
        "plt.legend(loc='lower right')\n",
        "plt.grid(True)\n",
        "plt.show()"
      ]
    },
    {
      "cell_type": "code",
      "execution_count": 12,
      "metadata": {
        "colab": {
          "base_uri": "https://localhost:8080/",
          "height": 17
        },
        "id": "lUEshLFvOEdK",
        "outputId": "472ef64f-83b6-403d-8c82-5a59cff78cc5"
      },
      "outputs": [
        {
          "output_type": "display_data",
          "data": {
            "text/plain": [
              "<IPython.core.display.Javascript object>"
            ],
            "application/javascript": [
              "\n",
              "    async function download(id, filename, size) {\n",
              "      if (!google.colab.kernel.accessAllowed) {\n",
              "        return;\n",
              "      }\n",
              "      const div = document.createElement('div');\n",
              "      const label = document.createElement('label');\n",
              "      label.textContent = `Downloading \"${filename}\": `;\n",
              "      div.appendChild(label);\n",
              "      const progress = document.createElement('progress');\n",
              "      progress.max = size;\n",
              "      div.appendChild(progress);\n",
              "      document.body.appendChild(div);\n",
              "\n",
              "      const buffers = [];\n",
              "      let downloaded = 0;\n",
              "\n",
              "      const channel = await google.colab.kernel.comms.open(id);\n",
              "      // Send a message to notify the kernel that we're ready.\n",
              "      channel.send({})\n",
              "\n",
              "      for await (const message of channel.messages) {\n",
              "        // Send a message to notify the kernel that we're ready.\n",
              "        channel.send({})\n",
              "        if (message.buffers) {\n",
              "          for (const buffer of message.buffers) {\n",
              "            buffers.push(buffer);\n",
              "            downloaded += buffer.byteLength;\n",
              "            progress.value = downloaded;\n",
              "          }\n",
              "        }\n",
              "      }\n",
              "      const blob = new Blob(buffers, {type: 'application/binary'});\n",
              "      const a = document.createElement('a');\n",
              "      a.href = window.URL.createObjectURL(blob);\n",
              "      a.download = filename;\n",
              "      div.appendChild(a);\n",
              "      a.click();\n",
              "      div.remove();\n",
              "    }\n",
              "  "
            ]
          },
          "metadata": {}
        },
        {
          "output_type": "display_data",
          "data": {
            "text/plain": [
              "<IPython.core.display.Javascript object>"
            ],
            "application/javascript": [
              "download(\"download_02e42de2-cfc9-4028-b8bd-8a55b507fd63\", \"base10.csv\", 1833)"
            ]
          },
          "metadata": {}
        }
      ],
      "source": [
        "from google.colab import files\n",
        "\n",
        "filename = f'/content/{csvname}'\n",
        "files.download(filename)"
      ]
    }
  ],
  "metadata": {
    "accelerator": "GPU",
    "colab": {
      "gpuType": "T4",
      "provenance": [],
      "include_colab_link": true
    },
    "kernelspec": {
      "display_name": "Python 3",
      "name": "python3"
    },
    "language_info": {
      "name": "python",
      "version": "3.12.3"
    }
  },
  "nbformat": 4,
  "nbformat_minor": 0
}