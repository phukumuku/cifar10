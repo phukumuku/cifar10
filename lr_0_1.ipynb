{
  "cells": [
    {
      "cell_type": "markdown",
      "metadata": {
        "id": "view-in-github",
        "colab_type": "text"
      },
      "source": [
        "<a href=\"https://colab.research.google.com/github/phukumuku/cifar10/blob/trade_off/lr_0_1.ipynb\" target=\"_parent\"><img src=\"https://colab.research.google.com/assets/colab-badge.svg\" alt=\"Open In Colab\"/></a>"
      ]
    },
    {
      "cell_type": "code",
      "execution_count": 1,
      "metadata": {
        "colab": {
          "base_uri": "https://localhost:8080/"
        },
        "id": "vXVAGMP3N1PJ",
        "outputId": "009a96fb-7be4-4cfe-b8da-f8d76c62abae"
      },
      "outputs": [
        {
          "name": "stdout",
          "output_type": "stream",
          "text": [
            "lr_0.1\n"
          ]
        }
      ],
      "source": [
        "csvname = input()+'.csv'"
      ]
    },
    {
      "cell_type": "markdown",
      "metadata": {
        "id": "cvIb75QoCS3l"
      },
      "source": [
        "ツールのインポート"
      ]
    },
    {
      "cell_type": "code",
      "execution_count": 2,
      "metadata": {
        "id": "S5MjgvPRc11g"
      },
      "outputs": [],
      "source": [
        "import torch\n",
        "import torchvision\n",
        "import torchvision.transforms as transforms\n",
        "import torch.nn as nn\n",
        "import torch.nn.functional as F\n",
        "import torch.optim as optim\n",
        "import time\n",
        "import numpy as np\n",
        "import sys"
      ]
    },
    {
      "cell_type": "markdown",
      "metadata": {
        "id": "11jMqoxuCZau"
      },
      "source": [
        "ツール（pytorch）のバージョンやGPUの設定確認\n",
        "- ランタイム -> ランタイムのタイプを変更 -> T4が選択されていればTrueと表示されるはず"
      ]
    },
    {
      "cell_type": "code",
      "execution_count": 3,
      "metadata": {
        "colab": {
          "base_uri": "https://localhost:8080/"
        },
        "id": "fY_XaooObNRe",
        "outputId": "2c876f8f-92cc-4f88-8b81-bae839b847d9"
      },
      "outputs": [
        {
          "output_type": "stream",
          "name": "stdout",
          "text": [
            "2.3.0+cu121\n",
            "True\n"
          ]
        }
      ],
      "source": [
        "print(torch.__version__)\n",
        "print(torch.cuda.is_available())\n",
        "# GPUが利用可能かどうかをチェック\n",
        "if not torch.cuda.is_available():\n",
        "    print(\"CUDAが利用できません。プログラムを終了します。\")\n",
        "    sys.exit(1)  # プログラムを終了\n",
        "device = torch.device('cuda:0' if torch.cuda.is_available() else 'cpu')"
      ]
    },
    {
      "cell_type": "markdown",
      "metadata": {
        "id": "yKotwuNNC_N-"
      },
      "source": [
        "データセットのロードと前処理を実施"
      ]
    },
    {
      "cell_type": "code",
      "execution_count": 4,
      "metadata": {
        "colab": {
          "base_uri": "https://localhost:8080/"
        },
        "id": "i1_iK9DbPVWS",
        "outputId": "76852755-9dd3-4f49-d8b5-7214fe891fc4"
      },
      "outputs": [
        {
          "output_type": "stream",
          "name": "stdout",
          "text": [
            "Downloading https://www.cs.toronto.edu/~kriz/cifar-10-python.tar.gz to ./data/cifar-10-python.tar.gz\n"
          ]
        },
        {
          "output_type": "stream",
          "name": "stderr",
          "text": [
            "100%|██████████| 170498071/170498071 [00:04<00:00, 34748181.69it/s]\n"
          ]
        },
        {
          "output_type": "stream",
          "name": "stdout",
          "text": [
            "Extracting ./data/cifar-10-python.tar.gz to ./data\n",
            "Files already downloaded and verified\n"
          ]
        }
      ],
      "source": [
        "transform = transforms.Compose(\n",
        "    [transforms.ToTensor(), transforms.Normalize((0.5, 0.5, 0.5), (0.5, 0.5, 0.5))]\n",
        ")\n",
        "\n",
        "batch_size = 4\n",
        "\n",
        "trainset = torchvision.datasets.CIFAR10(root='./data', train=True,\n",
        "                                        download=True, transform=transform)\n",
        "trainloader = torch.utils.data.DataLoader(trainset, batch_size=batch_size,\n",
        "                                          shuffle=True, num_workers=2)\n",
        "\n",
        "testset = torchvision.datasets.CIFAR10(root='./data', train=False,\n",
        "                                       download=True, transform=transform)\n",
        "testloader = torch.utils.data.DataLoader(testset, batch_size=batch_size,\n",
        "                                         shuffle=False, num_workers=2)\n"
      ]
    },
    {
      "cell_type": "markdown",
      "metadata": {
        "id": "G_QjcnV3DDQx"
      },
      "source": [
        "分類用のニューラルネットワークの設定"
      ]
    },
    {
      "cell_type": "code",
      "execution_count": 5,
      "metadata": {
        "id": "ORoICS6OPfCq"
      },
      "outputs": [],
      "source": [
        "class Net(nn.Module):\n",
        "    def __init__(self):\n",
        "        super().__init__()\n",
        "        self.conv1 = nn.Conv2d(3, 6, 3, padding=1)\n",
        "        self.fc1 = nn.Linear(6*32*32, 64)\n",
        "        self.fc2 = nn.Linear(64, 10)\n",
        "\n",
        "    def forward(self, x):\n",
        "        x = F.relu(self.conv1(x))\n",
        "        x = torch.flatten(x, 1) # flatten all dimensions except batch\n",
        "        x = F.relu(self.fc1(x))\n",
        "        x = self.fc2(x)\n",
        "        return x\n",
        "\n",
        "    def test(self, x):\n",
        "      return 0\n"
      ]
    },
    {
      "cell_type": "code",
      "execution_count": 6,
      "metadata": {
        "id": "YrXRC55ivk0c"
      },
      "outputs": [],
      "source": [
        "def test(net, testloader):\n",
        "    net.eval()  # モデルを評価モードに切り替える\n",
        "    correct = 0\n",
        "    total = 0\n",
        "    test_loss = 0.0\n",
        "\n",
        "    criterion = torch.nn.CrossEntropyLoss()  # 使用している損失関数に応じて変更\n",
        "\n",
        "    # torch.cuda.synchronize()\n",
        "    inference_start_time = time.time()\n",
        "\n",
        "    with torch.no_grad():\n",
        "        for data in testloader:\n",
        "            images, labels = data\n",
        "            if torch.cuda.is_available():\n",
        "                images, labels = images.to(device), labels.to(device)\n",
        "\n",
        "            outputs = net(images)\n",
        "\n",
        "            loss = criterion(outputs, labels)\n",
        "\n",
        "            test_loss += loss.item()\n",
        "            _, predicted = torch.max(outputs.data, 1)\n",
        "            total += labels.size(0)\n",
        "            correct += (predicted == labels).sum().item()\n",
        "\n",
        "    # torch.cuda.synchronize()\n",
        "    inference_end_time = time.time()\n",
        "    inference_time = inference_end_time - inference_start_time\n",
        "    avg_inference_time = inference_time / len(testloader)\n",
        "\n",
        "    test_accuracy = 100 * correct / total\n",
        "    test_loss /= len(testloader)\n",
        "\n",
        "    # print(len(testloader))\n",
        "    print(f' test_loss: {test_loss:.3f}, test_accuracy: {test_accuracy}%')\n",
        "    print(f' 推論時間: {inference_time:.3f} 秒, 推論速度: {avg_inference_time:.8f}')\n",
        "    print()\n",
        "    return test_loss, test_accuracy, inference_time, avg_inference_time"
      ]
    },
    {
      "cell_type": "markdown",
      "metadata": {
        "id": "vP1_7xLkDQZr"
      },
      "source": [
        "分類用ニューラルネットワークのインスタンス化と学習方法の設定"
      ]
    },
    {
      "cell_type": "code",
      "execution_count": 7,
      "metadata": {
        "id": "abzQ0jbTPjer"
      },
      "outputs": [],
      "source": [
        "net = Net()\n",
        "# transfer to gpu\n",
        "if torch.cuda.is_available():\n",
        "  net = net.to(device)\n",
        "criterion = nn.CrossEntropyLoss()\n",
        "optimizer = optim.SGD(net.parameters(), lr=0.1, momentum=0.9)"
      ]
    },
    {
      "cell_type": "markdown",
      "source": [
        "history = [**epoch, train_loss, train_acc, test_loss, test_acc, avg_train_time, avg_inference_time**]"
      ],
      "metadata": {
        "id": "efb1sAOgkYrT"
      }
    },
    {
      "cell_type": "code",
      "source": [
        "# 評価結果記録用\n",
        "history = np.zeros((0,9))\n",
        "\n",
        "# 学習\n",
        "# history = fit(net, optimizer, criterion, num_epochs, train_loader1, test_loader1, device, history)"
      ],
      "metadata": {
        "id": "gcYK4Ih9VnWG"
      },
      "execution_count": 8,
      "outputs": []
    },
    {
      "cell_type": "markdown",
      "metadata": {
        "id": "Ver73uk_DftR"
      },
      "source": [
        "学習"
      ]
    },
    {
      "cell_type": "code",
      "execution_count": 9,
      "metadata": {
        "colab": {
          "base_uri": "https://localhost:8080/"
        },
        "id": "n-Q0OtogPk1W",
        "outputId": "cdb7d9b8-718d-43fd-b05d-fe0bb4e41a1e"
      },
      "outputs": [
        {
          "output_type": "stream",
          "name": "stdout",
          "text": [
            "Epoch [1/5], train_loss: nan, train_accuracy: 10.008%,\n",
            "         学習時間: 54.616 秒, 学習速度: 0.00436928\n",
            " test_loss: nan, test_accuracy: 10.0%\n",
            " 推論時間: 7.449 秒, 推論速度: 0.00297959\n",
            "\n",
            "Epoch [2/5], train_loss: nan, train_accuracy: 10.0%,\n",
            "         学習時間: 51.480 秒, 学習速度: 0.00411843\n",
            " test_loss: nan, test_accuracy: 10.0%\n",
            " 推論時間: 6.399 秒, 推論速度: 0.00255966\n",
            "\n",
            "Epoch [3/5], train_loss: nan, train_accuracy: 10.0%,\n",
            "         学習時間: 48.688 秒, 学習速度: 0.00389507\n",
            " test_loss: nan, test_accuracy: 10.0%\n",
            " 推論時間: 7.305 秒, 推論速度: 0.00292185\n",
            "\n",
            "Epoch [4/5], train_loss: nan, train_accuracy: 10.0%,\n",
            "         学習時間: 46.001 秒, 学習速度: 0.00368004\n",
            " test_loss: nan, test_accuracy: 10.0%\n",
            " 推論時間: 7.272 秒, 推論速度: 0.00290883\n",
            "\n",
            "Epoch [5/5], train_loss: nan, train_accuracy: 10.0%,\n",
            "         学習時間: 46.800 秒, 学習速度: 0.00374403\n",
            " test_loss: nan, test_accuracy: 10.0%\n",
            " 推論時間: 6.222 秒, 推論速度: 0.00248881\n",
            "\n",
            "Finished Training\n"
          ]
        }
      ],
      "source": [
        "num_epochs = 5\n",
        "\n",
        "for epoch in range(num_epochs):  # loop over the dataset multiple times\n",
        "    torch.cuda.synchronize()\n",
        "    train_start_time = time.time()\n",
        "\n",
        "    net.train()  # 訓練モードに切り替える\n",
        "\n",
        "    # running_loss = 0.0\n",
        "    train_loss = 0.0\n",
        "    total = 0\n",
        "    correct = 0\n",
        "\n",
        "    for i, data in enumerate(trainloader, 0):\n",
        "        # get the inputs; data is a list of [inputs, labels]\n",
        "        inputs, labels = data\n",
        "        if torch.cuda.is_available():\n",
        "            inputs = inputs.to(device)\n",
        "            labels = labels.to(device)\n",
        "        optimizer.zero_grad()\n",
        "\n",
        "        # forward + backward + optimize\n",
        "        outputs = net(inputs)\n",
        "        loss = criterion(outputs, labels)\n",
        "        loss.backward()\n",
        "        optimizer.step()\n",
        "\n",
        "        _, predicted = torch.max(outputs.data, 1)\n",
        "\n",
        "        # print statistics\n",
        "        train_loss += loss.item()\n",
        "        total += labels.size(0)\n",
        "        correct += (predicted == labels).sum().item()\n",
        "\n",
        "        # if i % 2000 == 1999:  # print every 2000 mini-batches\n",
        "        #     print('[%d, %5d] loss: %.3f' %\n",
        "        #             (epoch + 1, i + 1, running_loss / 2000))\n",
        "        #     train_loss += running_loss\n",
        "        #     running_loss = 0.0\n",
        "\n",
        "    torch.cuda.synchronize()\n",
        "    train_end_time = time.time()  # エポック終了時刻\n",
        "    train_time = train_end_time - train_start_time\n",
        "    avg_train_time = train_time / len(trainloader)\n",
        "\n",
        "    train_loss /= len(trainloader)\n",
        "    train_acc = 100 * correct / total\n",
        "    print(f'Epoch [{epoch + 1}/{num_epochs}], train_loss: {train_loss:.3f}, train_accuracy: {train_acc}%,\\n         学習時間: {train_time:.3f} 秒, 学習速度: {avg_train_time:.8f}')\n",
        "\n",
        "    # 各エポックの最後に評価を行う\n",
        "    test_loss, test_acc, inference_time, avg_inference_time = test(net, testloader)\n",
        "\n",
        "    item = np.array([epoch, train_loss, train_acc, test_loss, test_acc, train_time, avg_train_time, inference_time, avg_inference_time])\n",
        "    history = np.vstack((history, item))\n",
        "\n",
        "print('Finished Training')"
      ]
    },
    {
      "cell_type": "code",
      "source": [
        "!pip install japanize_matplotlib | tail -n 1\n",
        "\n",
        "import matplotlib.pyplot as plt\n",
        "import japanize_matplotlib\n",
        "\n",
        "# warning表示off\n",
        "import warnings\n",
        "warnings.simplefilter('ignore')\n",
        "\n",
        "# デフォルトフォントサイズ変更\n",
        "plt.rcParams['font.size'] = 14\n",
        "\n",
        "# デフォルトグラフサイズ変更\n",
        "plt.rcParams['figure.figsize'] = (6,6)\n",
        "\n",
        "# デフォルトで方眼表示ON\n",
        "plt.rcParams['axes.grid'] = True\n",
        "\n",
        "# numpyの表示桁数設定\n",
        "np.set_printoptions(suppress=True, precision=5)\n",
        "\n",
        "\n",
        "\n",
        "# 学習曲線の表示 (損失)\n",
        "plt.figure(figsize=(9,8))\n",
        "plt.plot(history[:,0], history[:,1], 'b', label='訓練')\n",
        "plt.plot(history[:,0], history[:,3], 'k', label='検証')\n",
        "plt.xticks(np.arange(0,num_epochs+1, 5))\n",
        "plt.xlabel('繰り返し回数')\n",
        "plt.ylabel('損失')\n",
        "plt.title('学習曲線(損失)')\n",
        "plt.legend()\n",
        "plt.show()\n",
        "\n",
        "# 学習曲線の表示 (精度)\n",
        "plt.figure(figsize=(9,8))\n",
        "plt.plot(history[:,0], history[:,2], 'b', label='訓練')\n",
        "plt.plot(history[:,0], history[:,4], 'k', label='検証')\n",
        "plt.xticks(np.arange(0,num_epochs+1, 5))\n",
        "plt.xlabel('繰り返し回数')\n",
        "plt.ylabel('精度')\n",
        "plt.title('学習曲線(精度)')\n",
        "plt.legend()\n",
        "plt.show()"
      ],
      "metadata": {
        "colab": {
          "base_uri": "https://localhost:8080/",
          "height": 1000
        },
        "id": "2794Cyaznzqa",
        "outputId": "a6c38ffe-40d4-4bd1-97f8-c373e9e76516"
      },
      "execution_count": 10,
      "outputs": [
        {
          "output_type": "stream",
          "name": "stdout",
          "text": [
            "Successfully installed japanize_matplotlib-1.1.3\n"
          ]
        },
        {
          "output_type": "display_data",
          "data": {
            "text/plain": [
              "<Figure size 900x800 with 1 Axes>"
            ],
            "image/png": "[encoded data removed]"
          },
          "metadata": {}
        },
        {
          "output_type": "display_data",
          "data": {
            "text/plain": [
              "<Figure size 900x800 with 1 Axes>"
            ],
            "image/png": "[encoded data removed]"
          },
          "metadata": {}
        }
      ]
    },
    {
      "cell_type": "code",
      "source": [
        "import csv\n",
        "# CSVファイルの準備\n",
        "with open(csvname, 'w', newline='') as csvfile:\n",
        "    fieldnames = ['epoch', 'train_loss', 'train_accuracy', 'test_loss', 'test_accuracy', 'train_time', 'avg_train_time', 'inference_time', 'avg_inference_time']\n",
        "    writer = csv.DictWriter(csvfile, fieldnames=fieldnames)\n",
        "    writer.writeheader()\n",
        "    for row in history:\n",
        "        writer.writerow({\n",
        "            'epoch': row[0],\n",
        "            'train_loss': row[1],\n",
        "            'train_accuracy': row[2],\n",
        "            'test_loss': row[3],\n",
        "            'test_accuracy': row[4],\n",
        "            'train_time': row[5],\n",
        "            'avg_train_time': row[6],\n",
        "            'inference_time': row[7],\n",
        "            'avg_inference_time': row[8],\n",
        "        })\n",
        "\n",
        " # writer.writerow({'epoch': epoch + 1, 'batch': '', 'train_loss': '', 'train_accuracy': '', 'test_loss': test_loss, 'test_accuracy': test_accuracy})"
      ],
      "metadata": {
        "id": "YNW3FEm7nMeq"
      },
      "execution_count": 11,
      "outputs": []
    },
    {
      "cell_type": "code",
      "execution_count": 12,
      "metadata": {
        "colab": {
          "base_uri": "https://localhost:8080/",
          "height": 17
        },
        "id": "HUgtmjspOCm3",
        "outputId": "8773aef5-3b1d-4901-9fb1-eb39b11bb20b"
      },
      "outputs": [
        {
          "output_type": "display_data",
          "data": {
            "text/plain": [
              "<IPython.core.display.Javascript object>"
            ],
            "application/javascript": [
              "\n",
              "    async function download(id, filename, size) {\n",
              "      if (!google.colab.kernel.accessAllowed) {\n",
              "        return;\n",
              "      }\n",
              "      const div = document.createElement('div');\n",
              "      const label = document.createElement('label');\n",
              "      label.textContent = `Downloading \"${filename}\": `;\n",
              "      div.appendChild(label);\n",
              "      const progress = document.createElement('progress');\n",
              "      progress.max = size;\n",
              "      div.appendChild(progress);\n",
              "      document.body.appendChild(div);\n",
              "\n",
              "      const buffers = [];\n",
              "      let downloaded = 0;\n",
              "\n",
              "      const channel = await google.colab.kernel.comms.open(id);\n",
              "      // Send a message to notify the kernel that we're ready.\n",
              "      channel.send({})\n",
              "\n",
              "      for await (const message of channel.messages) {\n",
              "        // Send a message to notify the kernel that we're ready.\n",
              "        channel.send({})\n",
              "        if (message.buffers) {\n",
              "          for (const buffer of message.buffers) {\n",
              "            buffers.push(buffer);\n",
              "            downloaded += buffer.byteLength;\n",
              "            progress.value = downloaded;\n",
              "          }\n",
              "        }\n",
              "      }\n",
              "      const blob = new Blob(buffers, {type: 'application/binary'});\n",
              "      const a = document.createElement('a');\n",
              "      a.href = window.URL.createObjectURL(blob);\n",
              "      a.download = filename;\n",
              "      div.appendChild(a);\n",
              "      a.click();\n",
              "      div.remove();\n",
              "    }\n",
              "  "
            ]
          },
          "metadata": {}
        },
        {
          "output_type": "display_data",
          "data": {
            "text/plain": [
              "<IPython.core.display.Javascript object>"
            ],
            "application/javascript": [
              "download(\"download_72dfbc69-5605-40cc-bcec-71cd7c3d399b\", \"lr_0.1.csv\", 627)"
            ]
          },
          "metadata": {}
        }
      ],
      "source": [
        "from google.colab import files\n",
        "\n",
        "filename = f'/content/{csvname}'\n",
        "files.download(filename)"
      ]
    },
    {
      "cell_type": "code",
      "source": [],
      "metadata": {
        "id": "3_DLCwJFfeAM"
      },
      "execution_count": 12,
      "outputs": []
    }
  ],
  "metadata": {
    "colab": {
      "provenance": [],
      "gpuType": "T4",
      "include_colab_link": true
    },
    "kernelspec": {
      "display_name": "Python 3",
      "name": "python3"
    },
    "language_info": {
      "name": "python",
      "version": "3.12.3"
    },
    "accelerator": "GPU"
  },
  "nbformat": 4,
  "nbformat_minor": 0
}